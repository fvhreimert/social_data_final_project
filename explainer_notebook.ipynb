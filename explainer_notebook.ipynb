{
 "cells": [
  {
   "cell_type": "markdown",
   "id": "47a8d39b",
   "metadata": {},
   "source": [
    "# Explainer Notebook for Final Project\n",
    "### Group 72 \n",
    "#### 02806 Social Data Analysis and Visualization\n",
    "\n",
    "s193602\n",
    "\n",
    "s"
   ]
  },
  {
   "cell_type": "markdown",
   "id": "80c1225f",
   "metadata": {},
   "source": [
    "## 1. Motivation\n",
    "\n",
    "Our data is a curated selection from the IMDb Datasets, which offer publicly available metadata on film and TV shows listed in the Internet Movie Database (IMDb). Specifically, we worked with structured information on titles, genres, release years, and user ratings to explore how the film industry has evolved over time with a focus on genre distribution. We chose this dataset as all members of our group enjoy film and TV, though we are split on which genres are most enjoyable to watch -- a fact which led to a discussion on the evolution of genre. This particular dataset comes from the most widely used and recognized film/TV database, and contains the exact information on genre needed to perform this analysis. \n",
    "\n",
    "Our goal was to create an fun and interactive experience that highlights how film genres have shifted according to time and geography. We wanted users to be able to explore not just how many movies were made in a given year, but what kinds of stories were being told — and how that has changed across decades, and potentially due to historical events or general public sentiments. Through clean visualizations and intuitive layouts, we aimed to make complex temporal and categorical data feel accessible, insightful, and interesting. \n",
    "\n"
   ]
  },
  {
   "cell_type": "markdown",
   "id": "c2369cca",
   "metadata": {},
   "source": [
    "## 2. Basic stats. Let's understand the dataset better\n",
    "Write about your choices in data cleaning and preprocessing\n",
    "\n",
    "Write a short section that discusses the dataset stats, containing key points/plots from your exploratory data analysis."
   ]
  },
  {
   "cell_type": "markdown",
   "id": "d4fe9816",
   "metadata": {},
   "source": [
    "## 3. Data Analysis\n",
    "Describe your data analysis and explain what you've learned about the dataset.\n",
    "If relevant, talk about your machine-learning."
   ]
  },
  {
   "cell_type": "markdown",
   "id": "5cf10a24",
   "metadata": {},
   "source": [
    "## 4. Genre\n",
    "\n",
    "The genre of our data story is **magazine style**, as it tells a coherent, linear narrative. We felt this format fit well with the temporal nature of our theme and allowed users to scroll through our analysis in a simple, intuitive way.\n",
    "\n",
    "### Visual Narrative\n",
    "\n",
    "From the *Visual Narrative* categories laid out by Segal and Heer, we apply several key techniques.\n",
    "\n",
    "#### Visual Structuring\n",
    "\n",
    "Naturally, our visual story begins with an **establishing shot** that gives users an overview of the dataset and the genres at play. We also use a **consistent visual platform** by retaining genre-specific colors throughout the analysis. Finally, due to the temporal nature of our data, we incorporate a **timebar** to show how genre popularity evolves through the years.\n",
    "\n",
    "#### Highlighting\n",
    "\n",
    "We leave the **close-ups** to the user — our interactive graphs allow them to focus on specific genres through hover and click. We also employ **feature distinction** through our consistent genre color scheme. **Motion** is used through hover animations, which help users engage with the plot and effectively \"zoom in\" on a given year.\n",
    "\n",
    "#### Transition Guidance\n",
    "\n",
    "The **familiar objects** throughout our data story are the different genres and their associated colors. We apply **continuity editing** and **object continuity** to maintain a coherent visual flow, reinforced by the consistent visual styling. While we don’t use elaborate animated transitions, our interactive plots include zoom and selection animations that support a smooth user experience.\n",
    "\n",
    "### Narrative Structure\n",
    "\n",
    "#### Ordering\n",
    "\n",
    "Our project follows a **linear flow**, in line with the magazine-style layout. We also include elements of a **user-directed path** through interactive components.\n",
    "\n",
    "#### Interactivity\n",
    "\n",
    "Our plots include **hover highlighting**, **filtering/selection**, and **navigation controls** — most notably in Figure 2, which allows the user to select a genre and view its global distribution. While the plots themselves don’t provide **explicit instruction**, the figure captions do, and the interactions are easily discoverable via **tacit tutorial**. Additionally, the plots display **stimulating default views** — such as total movie production and genre share — that invite exploration.\n",
    "\n",
    "#### Messaging\n",
    "\n",
    "Our visualizations are supported by clear **captions/headlines** that explain their content. Relevant plots (e.g., the polar plot) include **annotations**. Since we follow a magazine structure, each plot is accompanied by explanatory text that builds a **narrative** around the data. This structure also includes **introductory text** to frame the project, and a **summary** to wrap it up.\n"
   ]
  },
  {
   "cell_type": "markdown",
   "id": "3a4ee90d",
   "metadata": {},
   "source": [
    "## 5. Visualization\n",
    "Explain the visualizations you've chosen.\n",
    "Why are they right for the story you want to tell?\n",
    "\n",
    "To support our narrative of how movie genres have evolved over time, we chose three complementary and interactive visualizations that each highlight a different dimension of the data.\n",
    "\n",
    "#### Annual Genre Distribution (Stacked Area Chart)\n",
    "\n",
    "The first visualization shows the relative share of each genre per year, alongside a bar chart indicating the total number of movies produced for that year. This view gives users an immediate sense of how certain genres have grown or shrunk in popularity, as well as how the film industry has expanded overall. It provides historical context and serves as a strong visual foundation for the rest of the article.\n",
    "\n",
    "#### Global Genre Specialization (Map Plot)\n",
    "\n",
    "Next, we include an interactive map that shows genre specialization across countries. By allowing the user to select a genre and see how prevalent it is in different parts of the world, this visualization highlights cultural and regional preferences. It supports a more global, comparative perspective.\n",
    "\n",
    "#### Weekly Release Patterns (Polar Chart)\n",
    "\n",
    "Finally, our article features a circular bar chart (polar plot) that visualizes weekly movie release patterns across all genres. This format reveals seasonality — for example, certain genres may be released more often in specific parts of the year. The spiral shape was chosen both for visual interest and its effectiveness in showing cyclical data without overwhelming the viewer.\n",
    "\n",
    "Together, these visualizations offer a temporal, geographic, and seasonal lens on the same dataset. Their interactivity makes them engaging and allows users to explore their own questions while following a coherent story. Because they are interactive, the plots are also highly information-dense, allowing users to reveal detailed insights on demand without overwhelming the layout visually.\n",
    "\n"
   ]
  },
  {
   "cell_type": "markdown",
   "id": "0bcc841e",
   "metadata": {},
   "source": [
    "## 6. Discussion. Think critically about your creation\n",
    "What went well?,\n",
    "What is still missing? What could be improved?, Why?"
   ]
  },
  {
   "cell_type": "markdown",
   "id": "9817eeef",
   "metadata": {},
   "source": [
    "## 7. Contributions\n",
    "\n",
    "You should write (just briefly) which group member was the main responsible for which elements of the assignment. (I want you guys to understand every part of the assignment, but usually there is someone who took lead role on certain portions of the work. That's what you should explain).\n",
    "It is not OK simply to write \"All group members contributed equally\"."
   ]
  }
 ],
 "metadata": {
  "kernelspec": {
   "display_name": "my_environment",
   "language": "python",
   "name": "python3"
  },
  "language_info": {
   "name": "python",
   "version": "3.11.11"
  }
 },
 "nbformat": 4,
 "nbformat_minor": 5
}
