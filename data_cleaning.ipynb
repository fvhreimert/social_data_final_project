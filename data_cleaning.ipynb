{
 "cells": [
  {
   "cell_type": "code",
   "execution_count": 62,
   "id": "07a0cab8",
   "metadata": {},
   "outputs": [],
   "source": [
    "import pandas as pd\n",
    "from pathlib import Path"
   ]
  },
  {
   "cell_type": "code",
   "execution_count": 63,
   "id": "6f79e9d8",
   "metadata": {},
   "outputs": [],
   "source": [
    "# Load this paquet file data/movies.parquet\n",
    "df = pd.read_parquet(\"../data/movies.parquet\")"
   ]
  },
  {
   "cell_type": "code",
   "execution_count": 64,
   "id": "84afe63e",
   "metadata": {},
   "outputs": [
    {
     "data": {
      "text/plain": [
       "(608940, 9)"
      ]
     },
     "execution_count": 64,
     "metadata": {},
     "output_type": "execute_result"
    }
   ],
   "source": [
    "# Filter out rows with missing values\n",
    "df.shape"
   ]
  },
  {
   "cell_type": "code",
   "execution_count": 65,
   "id": "7eec64be",
   "metadata": {},
   "outputs": [
    {
     "data": {
      "text/plain": [
       "title_id                   0\n",
       "title                      2\n",
       "original_title             2\n",
       "release_year               0\n",
       "runtime_minutes       166443\n",
       "genre                  70424\n",
       "imdb_rating           279360\n",
       "vote_count            279360\n",
       "production_country      7928\n",
       "dtype: int64"
      ]
     },
     "execution_count": 65,
     "metadata": {},
     "output_type": "execute_result"
    }
   ],
   "source": [
    "# Check for missing values\n",
    "df.isnull().sum()"
   ]
  },
  {
   "cell_type": "code",
   "execution_count": 66,
   "id": "057b71e9",
   "metadata": {},
   "outputs": [],
   "source": [
    "# Remove missing values\n",
    "df = df.dropna()"
   ]
  },
  {
   "cell_type": "code",
   "execution_count": 67,
   "id": "38058090",
   "metadata": {},
   "outputs": [
    {
     "data": {
      "text/plain": [
       "title_id              0\n",
       "title                 0\n",
       "original_title        0\n",
       "release_year          0\n",
       "runtime_minutes       0\n",
       "genre                 0\n",
       "imdb_rating           0\n",
       "vote_count            0\n",
       "production_country    0\n",
       "dtype: int64"
      ]
     },
     "execution_count": 67,
     "metadata": {},
     "output_type": "execute_result"
    }
   ],
   "source": [
    "# Check for missing values\n",
    "df.isnull().sum()"
   ]
  },
  {
   "cell_type": "code",
   "execution_count": 54,
   "id": "a6f221c9",
   "metadata": {},
   "outputs": [],
   "source": [
    "df.rename(columns={\n",
    "    'tconst': 'title_id',\n",
    "    'primaryTitle': 'title',\n",
    "    'originalTitle': 'original_title',\n",
    "    'year': 'release_year',\n",
    "    'runtimeMinutes': 'runtime_minutes',\n",
    "    'genres': 'genre',\n",
    "    'rating': 'imdb_rating',\n",
    "    'votes': 'vote_count',\n",
    "    'country': 'production_country'\n",
    "}, inplace=True)\n"
   ]
  },
  {
   "cell_type": "code",
   "execution_count": 34,
   "id": "198bb66f",
   "metadata": {},
   "outputs": [],
   "source": [
    "# Change all year to integer and remove NA and missing rows from year\n",
    "df['release_year'] = df['release_year'].astype('Int64')\n",
    "df = df.dropna(subset=['release_year'])"
   ]
  },
  {
   "cell_type": "code",
   "execution_count": null,
   "id": "74380897",
   "metadata": {},
   "outputs": [],
   "source": [
    "# Convert runtime minutes to integer \n",
    "df['runtime_minutes'] = df['runtime_minutes'].astype('Int64')\n",
    "\n",
    "# Convert vote count to integer \n",
    "df['vote_count'] = df['vote_count'].astype('Int64')"
   ]
  },
  {
   "cell_type": "code",
   "execution_count": 69,
   "id": "cf66d674",
   "metadata": {},
   "outputs": [
    {
     "name": "stdout",
     "output_type": "stream",
     "text": [
      "Movies data saved to ../data/movies.parquet\n"
     ]
    }
   ],
   "source": [
    "# Save as parquet in data directory\n",
    "output_path = data_dir / \"movies.parquet\"\n",
    "df.to_parquet(output_path, index=False)\n",
    "print(f\"Movies data saved to {output_path}\")"
   ]
  },
  {
   "cell_type": "code",
   "execution_count": 68,
   "id": "391903f2",
   "metadata": {},
   "outputs": [
    {
     "name": "stdout",
     "output_type": "stream",
     "text": [
      "Missing values in each column:\n",
      "Series([], dtype: int64)\n"
     ]
    }
   ],
   "source": [
    "missing_values = df.isnull().sum()\n",
    "print(\"Missing values in each column:\")\n",
    "print(missing_values[missing_values > 0])\n"
   ]
  }
 ],
 "metadata": {
  "kernelspec": {
   "display_name": "anaconda_environment_1",
   "language": "python",
   "name": "python3"
  },
  "language_info": {
   "codemirror_mode": {
    "name": "ipython",
    "version": 3
   },
   "file_extension": ".py",
   "mimetype": "text/x-python",
   "name": "python",
   "nbconvert_exporter": "python",
   "pygments_lexer": "ipython3",
   "version": "3.11.8"
  }
 },
 "nbformat": 4,
 "nbformat_minor": 5
}
