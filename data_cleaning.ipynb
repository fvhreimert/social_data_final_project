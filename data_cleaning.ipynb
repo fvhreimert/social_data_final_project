{
 "cells": [
  {
   "cell_type": "code",
   "execution_count": 2,
   "id": "07a0cab8",
   "metadata": {},
   "outputs": [],
   "source": [
    "import pandas as pd"
   ]
  },
  {
   "cell_type": "code",
   "execution_count": 4,
   "id": "603c2d6d",
   "metadata": {},
   "outputs": [],
   "source": [
    "\n",
    "# Load data\n",
    "basics = pd.read_csv(\"../data/title.basics.tsv.gz\", sep='\\t', dtype=str, na_values='\\\\N')\n",
    "ratings = pd.read_csv(\"../data/title.ratings.tsv.gz\", sep='\\t', dtype=str, na_values='\\\\N')\n",
    "akas = pd.read_csv(\"../data/title.akas.tsv.gz\", sep='\\t', dtype=str, na_values='\\\\N')\n",
    "\n",
    "# Filter to only movies\n",
    "basics = basics[basics['titleType'] == 'movie']\n",
    "\n",
    "# Merge title.basics with ratings\n",
    "df = basics.merge(ratings, on='tconst', how='left')\n",
    "\n",
    "# Aggregate production countries from akas (all available regions)\n",
    "region_df = akas[['titleId', 'region']].dropna()\n",
    "region_agg = region_df.groupby('titleId')['region'].agg(lambda x: '|'.join(sorted(set(x)))).reset_index()\n",
    "region_agg = region_agg.rename(columns={'titleId': 'tconst', 'region': 'production_country'})\n",
    "\n",
    "# Merge country info\n",
    "df = df.merge(region_agg, on='tconst', how='left')"
   ]
  },
  {
   "cell_type": "code",
   "execution_count": 9,
   "id": "d3001a09",
   "metadata": {},
   "outputs": [
    {
     "name": "stdout",
     "output_type": "stream",
     "text": [
      "Index(['title_id', 'title', 'original_title', 'release_year',\n",
      "       'runtime_minutes', 'genre', 'imdb_rating', 'vote_count',\n",
      "       'production_country'],\n",
      "      dtype='object')\n",
      "    title_id                          title                 original_title  \\\n",
      "0  tt0000009                     Miss Jerry                     Miss Jerry   \n",
      "1  tt0000147  The Corbett-Fitzsimmons Fight  The Corbett-Fitzsimmons Fight   \n",
      "2  tt0000502                       Bohemios                       Bohemios   \n",
      "3  tt0000574    The Story of the Kelly Gang    The Story of the Kelly Gang   \n",
      "4  tt0000591               The Prodigal Son              L'enfant prodigue   \n",
      "\n",
      "   release_year  runtime_minutes                       genre  imdb_rating  \\\n",
      "0        1894.0             45.0                     Romance          5.4   \n",
      "1        1897.0            100.0      Documentary,News,Sport          5.3   \n",
      "2        1905.0            100.0                         NaN          3.8   \n",
      "3        1906.0             70.0  Action,Adventure,Biography          6.0   \n",
      "4        1907.0             90.0                       Drama          5.6   \n",
      "\n",
      "   vote_count    production_country  \n",
      "0       223.0           AU|DE|HU|US  \n",
      "1       559.0                 RU|US  \n",
      "2        21.0                    ES  \n",
      "3       985.0  AU|DE|GB|HU|RS|SG|US  \n",
      "4        31.0                 FR|US  \n"
     ]
    }
   ],
   "source": [
    "# Select and rename columns\n",
    "df_final = df[[\n",
    "    'tconst', 'primaryTitle', 'originalTitle', 'startYear',\n",
    "    'runtimeMinutes', 'genres', 'averageRating', 'numVotes', 'production_country'\n",
    "]].rename(columns={\n",
    "    'tconst': 'title_id',\n",
    "    'primaryTitle': 'title',\n",
    "    'originalTitle': 'original_title',\n",
    "    'startYear': 'release_year',\n",
    "    'runtimeMinutes': 'runtime_minutes',\n",
    "    'genres': 'genre',\n",
    "    'averageRating': 'imdb_rating',\n",
    "    'numVotes': 'vote_count'\n",
    "})\n",
    "\n",
    "# Convert types\n",
    "df_final['release_year'] = pd.to_numeric(df_final['release_year'], errors='coerce')\n",
    "df_final['runtime_minutes'] = pd.to_numeric(df_final['runtime_minutes'], errors='coerce')\n",
    "df_final['imdb_rating'] = pd.to_numeric(df_final['imdb_rating'], errors='coerce')\n",
    "df_final['vote_count'] = pd.to_numeric(df_final['vote_count'], errors='coerce')\n",
    "\n",
    "# Verify columns\n",
    "print(df_final.columns)\n",
    "print(df_final.head())"
   ]
  },
  {
   "cell_type": "code",
   "execution_count": 13,
   "id": "62a16b36",
   "metadata": {},
   "outputs": [
    {
     "name": "stdout",
     "output_type": "stream",
     "text": [
      "Missing rows:\n",
      "title_id                   0\n",
      "title                      2\n",
      "original_title             2\n",
      "release_year          105075\n",
      "runtime_minutes       263712\n",
      "genre                  76989\n",
      "imdb_rating           384402\n",
      "vote_count            384402\n",
      "production_country     14118\n",
      "dtype: int64\n"
     ]
    }
   ],
   "source": [
    "# print the number of missing rows\n",
    "print(\"Missing rows:\")\n",
    "print(df_final.isnull().sum())\n"
   ]
  },
  {
   "cell_type": "code",
   "execution_count": 14,
   "id": "24fdd9cf",
   "metadata": {},
   "outputs": [
    {
     "data": {
      "text/html": [
       "<div>\n",
       "<style scoped>\n",
       "    .dataframe tbody tr th:only-of-type {\n",
       "        vertical-align: middle;\n",
       "    }\n",
       "\n",
       "    .dataframe tbody tr th {\n",
       "        vertical-align: top;\n",
       "    }\n",
       "\n",
       "    .dataframe thead th {\n",
       "        text-align: right;\n",
       "    }\n",
       "</style>\n",
       "<table border=\"1\" class=\"dataframe\">\n",
       "  <thead>\n",
       "    <tr style=\"text-align: right;\">\n",
       "      <th></th>\n",
       "      <th>title_id</th>\n",
       "      <th>title</th>\n",
       "      <th>original_title</th>\n",
       "      <th>release_year</th>\n",
       "      <th>runtime_minutes</th>\n",
       "      <th>genre</th>\n",
       "      <th>imdb_rating</th>\n",
       "      <th>vote_count</th>\n",
       "      <th>production_country</th>\n",
       "    </tr>\n",
       "  </thead>\n",
       "  <tbody>\n",
       "    <tr>\n",
       "      <th>0</th>\n",
       "      <td>tt0000009</td>\n",
       "      <td>Miss Jerry</td>\n",
       "      <td>Miss Jerry</td>\n",
       "      <td>1894.0</td>\n",
       "      <td>45.0</td>\n",
       "      <td>Romance</td>\n",
       "      <td>5.4</td>\n",
       "      <td>223.0</td>\n",
       "      <td>AU|DE|HU|US</td>\n",
       "    </tr>\n",
       "    <tr>\n",
       "      <th>1</th>\n",
       "      <td>tt0000147</td>\n",
       "      <td>The Corbett-Fitzsimmons Fight</td>\n",
       "      <td>The Corbett-Fitzsimmons Fight</td>\n",
       "      <td>1897.0</td>\n",
       "      <td>100.0</td>\n",
       "      <td>Documentary,News,Sport</td>\n",
       "      <td>5.3</td>\n",
       "      <td>559.0</td>\n",
       "      <td>RU|US</td>\n",
       "    </tr>\n",
       "    <tr>\n",
       "      <th>2</th>\n",
       "      <td>tt0000502</td>\n",
       "      <td>Bohemios</td>\n",
       "      <td>Bohemios</td>\n",
       "      <td>1905.0</td>\n",
       "      <td>100.0</td>\n",
       "      <td>NaN</td>\n",
       "      <td>3.8</td>\n",
       "      <td>21.0</td>\n",
       "      <td>ES</td>\n",
       "    </tr>\n",
       "    <tr>\n",
       "      <th>3</th>\n",
       "      <td>tt0000574</td>\n",
       "      <td>The Story of the Kelly Gang</td>\n",
       "      <td>The Story of the Kelly Gang</td>\n",
       "      <td>1906.0</td>\n",
       "      <td>70.0</td>\n",
       "      <td>Action,Adventure,Biography</td>\n",
       "      <td>6.0</td>\n",
       "      <td>985.0</td>\n",
       "      <td>AU|DE|GB|HU|RS|SG|US</td>\n",
       "    </tr>\n",
       "    <tr>\n",
       "      <th>4</th>\n",
       "      <td>tt0000591</td>\n",
       "      <td>The Prodigal Son</td>\n",
       "      <td>L'enfant prodigue</td>\n",
       "      <td>1907.0</td>\n",
       "      <td>90.0</td>\n",
       "      <td>Drama</td>\n",
       "      <td>5.6</td>\n",
       "      <td>31.0</td>\n",
       "      <td>FR|US</td>\n",
       "    </tr>\n",
       "    <tr>\n",
       "      <th>...</th>\n",
       "      <td>...</td>\n",
       "      <td>...</td>\n",
       "      <td>...</td>\n",
       "      <td>...</td>\n",
       "      <td>...</td>\n",
       "      <td>...</td>\n",
       "      <td>...</td>\n",
       "      <td>...</td>\n",
       "      <td>...</td>\n",
       "    </tr>\n",
       "    <tr>\n",
       "      <th>714010</th>\n",
       "      <td>tt9916622</td>\n",
       "      <td>Rodolpho Teóphilo - O Legado de um Pioneiro</td>\n",
       "      <td>Rodolpho Teóphilo - O Legado de um Pioneiro</td>\n",
       "      <td>2015.0</td>\n",
       "      <td>57.0</td>\n",
       "      <td>Documentary</td>\n",
       "      <td>NaN</td>\n",
       "      <td>NaN</td>\n",
       "      <td>BR</td>\n",
       "    </tr>\n",
       "    <tr>\n",
       "      <th>714011</th>\n",
       "      <td>tt9916680</td>\n",
       "      <td>De la ilusión al desconcierto: cine colombiano...</td>\n",
       "      <td>De la ilusión al desconcierto: cine colombiano...</td>\n",
       "      <td>2007.0</td>\n",
       "      <td>100.0</td>\n",
       "      <td>Documentary</td>\n",
       "      <td>NaN</td>\n",
       "      <td>NaN</td>\n",
       "      <td>CO</td>\n",
       "    </tr>\n",
       "    <tr>\n",
       "      <th>714012</th>\n",
       "      <td>tt9916706</td>\n",
       "      <td>Dankyavar Danka</td>\n",
       "      <td>Dankyavar Danka</td>\n",
       "      <td>2013.0</td>\n",
       "      <td>NaN</td>\n",
       "      <td>Comedy</td>\n",
       "      <td>7.7</td>\n",
       "      <td>9.0</td>\n",
       "      <td>IN</td>\n",
       "    </tr>\n",
       "    <tr>\n",
       "      <th>714013</th>\n",
       "      <td>tt9916730</td>\n",
       "      <td>6 Gunn</td>\n",
       "      <td>6 Gunn</td>\n",
       "      <td>2017.0</td>\n",
       "      <td>116.0</td>\n",
       "      <td>Drama</td>\n",
       "      <td>7.0</td>\n",
       "      <td>13.0</td>\n",
       "      <td>IN</td>\n",
       "    </tr>\n",
       "    <tr>\n",
       "      <th>714014</th>\n",
       "      <td>tt9916754</td>\n",
       "      <td>Chico Albuquerque - Revelações</td>\n",
       "      <td>Chico Albuquerque - Revelações</td>\n",
       "      <td>2013.0</td>\n",
       "      <td>49.0</td>\n",
       "      <td>Documentary</td>\n",
       "      <td>NaN</td>\n",
       "      <td>NaN</td>\n",
       "      <td>BR</td>\n",
       "    </tr>\n",
       "  </tbody>\n",
       "</table>\n",
       "<p>714015 rows × 9 columns</p>\n",
       "</div>"
      ],
      "text/plain": [
       "         title_id                                              title  \\\n",
       "0       tt0000009                                         Miss Jerry   \n",
       "1       tt0000147                      The Corbett-Fitzsimmons Fight   \n",
       "2       tt0000502                                           Bohemios   \n",
       "3       tt0000574                        The Story of the Kelly Gang   \n",
       "4       tt0000591                                   The Prodigal Son   \n",
       "...           ...                                                ...   \n",
       "714010  tt9916622        Rodolpho Teóphilo - O Legado de um Pioneiro   \n",
       "714011  tt9916680  De la ilusión al desconcierto: cine colombiano...   \n",
       "714012  tt9916706                                    Dankyavar Danka   \n",
       "714013  tt9916730                                             6 Gunn   \n",
       "714014  tt9916754                     Chico Albuquerque - Revelações   \n",
       "\n",
       "                                           original_title  release_year  \\\n",
       "0                                              Miss Jerry        1894.0   \n",
       "1                           The Corbett-Fitzsimmons Fight        1897.0   \n",
       "2                                                Bohemios        1905.0   \n",
       "3                             The Story of the Kelly Gang        1906.0   \n",
       "4                                       L'enfant prodigue        1907.0   \n",
       "...                                                   ...           ...   \n",
       "714010        Rodolpho Teóphilo - O Legado de um Pioneiro        2015.0   \n",
       "714011  De la ilusión al desconcierto: cine colombiano...        2007.0   \n",
       "714012                                    Dankyavar Danka        2013.0   \n",
       "714013                                             6 Gunn        2017.0   \n",
       "714014                     Chico Albuquerque - Revelações        2013.0   \n",
       "\n",
       "        runtime_minutes                       genre  imdb_rating  vote_count  \\\n",
       "0                  45.0                     Romance          5.4       223.0   \n",
       "1                 100.0      Documentary,News,Sport          5.3       559.0   \n",
       "2                 100.0                         NaN          3.8        21.0   \n",
       "3                  70.0  Action,Adventure,Biography          6.0       985.0   \n",
       "4                  90.0                       Drama          5.6        31.0   \n",
       "...                 ...                         ...          ...         ...   \n",
       "714010             57.0                 Documentary          NaN         NaN   \n",
       "714011            100.0                 Documentary          NaN         NaN   \n",
       "714012              NaN                      Comedy          7.7         9.0   \n",
       "714013            116.0                       Drama          7.0        13.0   \n",
       "714014             49.0                 Documentary          NaN         NaN   \n",
       "\n",
       "          production_country  \n",
       "0                AU|DE|HU|US  \n",
       "1                      RU|US  \n",
       "2                         ES  \n",
       "3       AU|DE|GB|HU|RS|SG|US  \n",
       "4                      FR|US  \n",
       "...                      ...  \n",
       "714010                    BR  \n",
       "714011                    CO  \n",
       "714012                    IN  \n",
       "714013                    IN  \n",
       "714014                    BR  \n",
       "\n",
       "[714015 rows x 9 columns]"
      ]
     },
     "execution_count": 14,
     "metadata": {},
     "output_type": "execute_result"
    }
   ],
   "source": [
    "df_final"
   ]
  },
  {
   "cell_type": "code",
   "execution_count": null,
   "id": "0758fec8",
   "metadata": {},
   "outputs": [
    {
     "name": "stdout",
     "output_type": "stream",
     "text": [
      "Index(['title_id', 'title', 'original_title', 'release_year',\n",
      "       'runtime_minutes', 'genre', 'imdb_rating', 'vote_count',\n",
      "       'production_country'],\n",
      "      dtype='object')\n",
      "    title_id                          title                 original_title  \\\n",
      "0  tt0000009                     Miss Jerry                     Miss Jerry   \n",
      "1  tt0000147  The Corbett-Fitzsimmons Fight  The Corbett-Fitzsimmons Fight   \n",
      "2  tt0000502                       Bohemios                       Bohemios   \n",
      "3  tt0000574    The Story of the Kelly Gang    The Story of the Kelly Gang   \n",
      "4  tt0000591               The Prodigal Son              L'enfant prodigue   \n",
      "\n",
      "   release_year  runtime_minutes                       genre  imdb_rating  \\\n",
      "0        1894.0             45.0                     Romance          5.4   \n",
      "1        1897.0            100.0      Documentary,News,Sport          5.3   \n",
      "2        1905.0            100.0                         NaN          3.8   \n",
      "3        1906.0             70.0  Action,Adventure,Biography          6.0   \n",
      "4        1907.0             90.0                       Drama          5.6   \n",
      "\n",
      "   vote_count    production_country  \n",
      "0       223.0           AU|DE|HU|US  \n",
      "1       559.0                 RU|US  \n",
      "2        21.0                    ES  \n",
      "3       985.0  AU|DE|GB|HU|RS|SG|US  \n",
      "4        31.0                 FR|US  \n"
     ]
    }
   ],
   "source": [
    "\n",
    "# Load data\n",
    "basics = pd.read_csv(\"../data/title.basics.tsv.gz\", sep='\\t', dtype=str, na_values='\\\\N')\n",
    "ratings = pd.read_csv(\"../data/title.ratings.tsv.gz\", sep='\\t', dtype=str, na_values='\\\\N')\n",
    "akas = pd.read_csv(\"../data/title.akas.tsv.gz\", sep='\\t', dtype=str, na_values='\\\\N')\n",
    "\n",
    "# Filter to only movies\n",
    "basics = basics[basics['titleType'] == 'movie']\n",
    "\n",
    "# Merge title.basics with ratings\n",
    "df = basics.merge(ratings, on='tconst', how='left')\n",
    "\n",
    "# Aggregate production countries from akas (all available regions)\n",
    "region_df = akas[['titleId', 'region']].dropna()\n",
    "region_agg = region_df.groupby('titleId')['region'].agg(lambda x: '|'.join(sorted(set(x)))).reset_index()\n",
    "region_agg = region_agg.rename(columns={'titleId': 'tconst', 'region': 'production_country'})\n",
    "\n",
    "# Merge country info\n",
    "df = df.merge(region_agg, on='tconst', how='left')\n",
    "\n",
    "# Select and rename columns\n",
    "df_final = df[[\n",
    "    'tconst', 'primaryTitle', 'originalTitle', 'startYear',\n",
    "    'runtimeMinutes', 'genres', 'averageRating', 'numVotes', 'production_country'\n",
    "]].rename(columns={\n",
    "    'tconst': 'title_id',\n",
    "    'primaryTitle': 'title',\n",
    "    'originalTitle': 'original_title',\n",
    "    'startYear': 'release_year',\n",
    "    'runtimeMinutes': 'runtime_minutes',\n",
    "    'genres': 'genre',\n",
    "    'averageRating': 'imdb_rating',\n",
    "    'numVotes': 'vote_count'\n",
    "})\n",
    "\n",
    "# Convert types\n",
    "df_final['release_year'] = pd.to_numeric(df_final['release_year'], errors='coerce')\n",
    "df_final['runtime_minutes'] = pd.to_numeric(df_final['runtime_minutes'], errors='coerce')\n",
    "df_final['imdb_rating'] = pd.to_numeric(df_final['imdb_rating'], errors='coerce')\n",
    "df_final['vote_count'] = pd.to_numeric(df_final['vote_count'], errors='coerce')\n",
    "\n",
    "# Verify columns\n",
    "print(df_final.columns)\n",
    "print(df_final.head())\n"
   ]
  },
  {
   "cell_type": "code",
   "execution_count": 22,
   "id": "2fac5456",
   "metadata": {},
   "outputs": [
    {
     "data": {
      "text/plain": [
       "(714015, 9)"
      ]
     },
     "execution_count": 22,
     "metadata": {},
     "output_type": "execute_result"
    }
   ],
   "source": [
    "df_final.shape"
   ]
  },
  {
   "cell_type": "code",
   "execution_count": 15,
   "id": "625977c6",
   "metadata": {},
   "outputs": [],
   "source": [
    "# Convert year and minutes to integers\n",
    "df_final['release_year'] = df_final['release_year'].astype('Int64')\n",
    "df_final['runtime_minutes'] = df_final['runtime_minutes'].astype('Int64')\n",
    "\n",
    "# Convert vote_count to integer\n",
    "df_final['vote_count'] = df_final['vote_count'].astype('Int64')\n"
   ]
  },
  {
   "cell_type": "code",
   "execution_count": 16,
   "id": "877bf2c3",
   "metadata": {},
   "outputs": [
    {
     "data": {
      "text/html": [
       "<div>\n",
       "<style scoped>\n",
       "    .dataframe tbody tr th:only-of-type {\n",
       "        vertical-align: middle;\n",
       "    }\n",
       "\n",
       "    .dataframe tbody tr th {\n",
       "        vertical-align: top;\n",
       "    }\n",
       "\n",
       "    .dataframe thead th {\n",
       "        text-align: right;\n",
       "    }\n",
       "</style>\n",
       "<table border=\"1\" class=\"dataframe\">\n",
       "  <thead>\n",
       "    <tr style=\"text-align: right;\">\n",
       "      <th></th>\n",
       "      <th>title_id</th>\n",
       "      <th>title</th>\n",
       "      <th>original_title</th>\n",
       "      <th>release_year</th>\n",
       "      <th>runtime_minutes</th>\n",
       "      <th>genre</th>\n",
       "      <th>imdb_rating</th>\n",
       "      <th>vote_count</th>\n",
       "      <th>production_country</th>\n",
       "    </tr>\n",
       "  </thead>\n",
       "  <tbody>\n",
       "    <tr>\n",
       "      <th>0</th>\n",
       "      <td>tt0000009</td>\n",
       "      <td>Miss Jerry</td>\n",
       "      <td>Miss Jerry</td>\n",
       "      <td>1894</td>\n",
       "      <td>45</td>\n",
       "      <td>Romance</td>\n",
       "      <td>5.4</td>\n",
       "      <td>223</td>\n",
       "      <td>AU|DE|HU|US</td>\n",
       "    </tr>\n",
       "    <tr>\n",
       "      <th>1</th>\n",
       "      <td>tt0000147</td>\n",
       "      <td>The Corbett-Fitzsimmons Fight</td>\n",
       "      <td>The Corbett-Fitzsimmons Fight</td>\n",
       "      <td>1897</td>\n",
       "      <td>100</td>\n",
       "      <td>Documentary,News,Sport</td>\n",
       "      <td>5.3</td>\n",
       "      <td>559</td>\n",
       "      <td>RU|US</td>\n",
       "    </tr>\n",
       "    <tr>\n",
       "      <th>2</th>\n",
       "      <td>tt0000502</td>\n",
       "      <td>Bohemios</td>\n",
       "      <td>Bohemios</td>\n",
       "      <td>1905</td>\n",
       "      <td>100</td>\n",
       "      <td>NaN</td>\n",
       "      <td>3.8</td>\n",
       "      <td>21</td>\n",
       "      <td>ES</td>\n",
       "    </tr>\n",
       "    <tr>\n",
       "      <th>3</th>\n",
       "      <td>tt0000574</td>\n",
       "      <td>The Story of the Kelly Gang</td>\n",
       "      <td>The Story of the Kelly Gang</td>\n",
       "      <td>1906</td>\n",
       "      <td>70</td>\n",
       "      <td>Action,Adventure,Biography</td>\n",
       "      <td>6.0</td>\n",
       "      <td>985</td>\n",
       "      <td>AU|DE|GB|HU|RS|SG|US</td>\n",
       "    </tr>\n",
       "    <tr>\n",
       "      <th>4</th>\n",
       "      <td>tt0000591</td>\n",
       "      <td>The Prodigal Son</td>\n",
       "      <td>L'enfant prodigue</td>\n",
       "      <td>1907</td>\n",
       "      <td>90</td>\n",
       "      <td>Drama</td>\n",
       "      <td>5.6</td>\n",
       "      <td>31</td>\n",
       "      <td>FR|US</td>\n",
       "    </tr>\n",
       "  </tbody>\n",
       "</table>\n",
       "</div>"
      ],
      "text/plain": [
       "    title_id                          title                 original_title  \\\n",
       "0  tt0000009                     Miss Jerry                     Miss Jerry   \n",
       "1  tt0000147  The Corbett-Fitzsimmons Fight  The Corbett-Fitzsimmons Fight   \n",
       "2  tt0000502                       Bohemios                       Bohemios   \n",
       "3  tt0000574    The Story of the Kelly Gang    The Story of the Kelly Gang   \n",
       "4  tt0000591               The Prodigal Son              L'enfant prodigue   \n",
       "\n",
       "   release_year  runtime_minutes                       genre  imdb_rating  \\\n",
       "0          1894               45                     Romance          5.4   \n",
       "1          1897              100      Documentary,News,Sport          5.3   \n",
       "2          1905              100                         NaN          3.8   \n",
       "3          1906               70  Action,Adventure,Biography          6.0   \n",
       "4          1907               90                       Drama          5.6   \n",
       "\n",
       "   vote_count    production_country  \n",
       "0         223           AU|DE|HU|US  \n",
       "1         559                 RU|US  \n",
       "2          21                    ES  \n",
       "3         985  AU|DE|GB|HU|RS|SG|US  \n",
       "4          31                 FR|US  "
      ]
     },
     "execution_count": 16,
     "metadata": {},
     "output_type": "execute_result"
    }
   ],
   "source": [
    "df_final.head()"
   ]
  },
  {
   "cell_type": "code",
   "execution_count": 25,
   "id": "82e6770d",
   "metadata": {},
   "outputs": [],
   "source": [
    "# save as parquet../data/movies.parquet\n",
    "df_final.to_parquet(\"../data/movies.parquet\", index=False, engine='pyarrow')"
   ]
  },
  {
   "cell_type": "code",
   "execution_count": 26,
   "id": "982195b0",
   "metadata": {},
   "outputs": [
    {
     "data": {
      "text/plain": [
       "(714015, 9)"
      ]
     },
     "execution_count": 26,
     "metadata": {},
     "output_type": "execute_result"
    }
   ],
   "source": [
    "df_final.shape"
   ]
  },
  {
   "cell_type": "code",
   "execution_count": 17,
   "id": "1b899276",
   "metadata": {},
   "outputs": [
    {
     "name": "stdout",
     "output_type": "stream",
     "text": [
      "| Column | Data Type | Non-Missing | Missing | Unique Values | Example |\n",
      "|--------|------------|--------------|---------|----------------|---------|\n",
      "| title_id | object | 714015 | 0 | 714015 | tt0000009 |\n",
      "| title | object | 714013 | 2 | 613714 | Miss Jerry |\n",
      "| original_title | object | 714013 | 2 | 627750 | Miss Jerry |\n",
      "| release_year | Int64 | 608940 | 105075 | 139 | 1894 |\n",
      "| runtime_minutes | Int64 | 450303 | 263712 | 510 | 45 |\n",
      "| genre | object | 637026 | 76989 | 1494 | Romance |\n",
      "| imdb_rating | float64 | 329613 | 384402 | 91 | 5.4 |\n",
      "| vote_count | Int64 | 329613 | 384402 | 19061 | 223 |\n",
      "| production_country | object | 699897 | 14118 | 118177 | AU|DE|HU|US |\n"
     ]
    }
   ],
   "source": [
    "def describe_dataframe_for_markdown(df):\n",
    "    summary = []\n",
    "    for col in df.columns:\n",
    "        dtype = df[col].dtype\n",
    "        non_null = df[col].notnull().sum()\n",
    "        nulls = df[col].isnull().sum()\n",
    "        unique = df[col].nunique(dropna=True)\n",
    "        example = df[col].dropna().iloc[0] if df[col].notna().any() else \"NaN\"\n",
    "        summary.append([col, str(dtype), non_null, nulls, unique, str(example)])\n",
    "\n",
    "    header = \"| Column | Data Type | Non-Missing | Missing | Unique Values | Example |\"\n",
    "    divider = \"|--------|------------|--------------|---------|----------------|---------|\"\n",
    "    lines = [header, divider]\n",
    "    for row in summary:\n",
    "        lines.append(\"| \" + \" | \".join(map(str, row)) + \" |\")\n",
    "    \n",
    "    markdown_output = \"\\n\".join(lines)\n",
    "    print(markdown_output)\n",
    "\n",
    "# Use it on your df_final\n",
    "describe_dataframe_for_markdown(df_final)\n"
   ]
  },
  {
   "cell_type": "markdown",
   "id": "8ad45e50",
   "metadata": {},
   "source": [
    "## OLD PART ##"
   ]
  },
  {
   "cell_type": "code",
   "execution_count": 2,
   "id": "6f79e9d8",
   "metadata": {},
   "outputs": [],
   "source": [
    "# Load this paquet file data/movies.parquet\n",
    "df = pd.read_parquet(\"../data/movies.parquet\")"
   ]
  },
  {
   "cell_type": "code",
   "execution_count": 3,
   "id": "d8465614",
   "metadata": {},
   "outputs": [
    {
     "data": {
      "text/plain": [
       "Index(['title_id', 'title', 'original_title', 'release_year',\n",
       "       'runtime_minutes', 'genre', 'imdb_rating', 'vote_count',\n",
       "       'production_country'],\n",
       "      dtype='object')"
      ]
     },
     "execution_count": 3,
     "metadata": {},
     "output_type": "execute_result"
    }
   ],
   "source": [
    "df.columns"
   ]
  },
  {
   "cell_type": "code",
   "execution_count": 64,
   "id": "84afe63e",
   "metadata": {},
   "outputs": [
    {
     "data": {
      "text/plain": [
       "(608940, 9)"
      ]
     },
     "execution_count": 64,
     "metadata": {},
     "output_type": "execute_result"
    }
   ],
   "source": [
    "# Filter out rows with missing values\n",
    "df.shape"
   ]
  },
  {
   "cell_type": "code",
   "execution_count": 65,
   "id": "7eec64be",
   "metadata": {},
   "outputs": [
    {
     "data": {
      "text/plain": [
       "title_id                   0\n",
       "title                      2\n",
       "original_title             2\n",
       "release_year               0\n",
       "runtime_minutes       166443\n",
       "genre                  70424\n",
       "imdb_rating           279360\n",
       "vote_count            279360\n",
       "production_country      7928\n",
       "dtype: int64"
      ]
     },
     "execution_count": 65,
     "metadata": {},
     "output_type": "execute_result"
    }
   ],
   "source": [
    "# Check for missing values\n",
    "df.isnull().sum()"
   ]
  },
  {
   "cell_type": "code",
   "execution_count": 66,
   "id": "057b71e9",
   "metadata": {},
   "outputs": [],
   "source": [
    "# Remove missing values\n",
    "df = df.dropna()"
   ]
  },
  {
   "cell_type": "code",
   "execution_count": 67,
   "id": "38058090",
   "metadata": {},
   "outputs": [
    {
     "data": {
      "text/plain": [
       "title_id              0\n",
       "title                 0\n",
       "original_title        0\n",
       "release_year          0\n",
       "runtime_minutes       0\n",
       "genre                 0\n",
       "imdb_rating           0\n",
       "vote_count            0\n",
       "production_country    0\n",
       "dtype: int64"
      ]
     },
     "execution_count": 67,
     "metadata": {},
     "output_type": "execute_result"
    }
   ],
   "source": [
    "# Check for missing values\n",
    "df.isnull().sum()"
   ]
  },
  {
   "cell_type": "code",
   "execution_count": 54,
   "id": "a6f221c9",
   "metadata": {},
   "outputs": [],
   "source": [
    "df.rename(columns={\n",
    "    'tconst': 'title_id',\n",
    "    'primaryTitle': 'title',\n",
    "    'originalTitle': 'original_title',\n",
    "    'year': 'release_year',\n",
    "    'runtimeMinutes': 'runtime_minutes',\n",
    "    'genres': 'genre',\n",
    "    'rating': 'imdb_rating',\n",
    "    'votes': 'vote_count',\n",
    "    'country': 'production_country'\n",
    "}, inplace=True)\n"
   ]
  },
  {
   "cell_type": "code",
   "execution_count": 34,
   "id": "198bb66f",
   "metadata": {},
   "outputs": [],
   "source": [
    "# Change all year to integer and remove NA and missing rows from year\n",
    "df['release_year'] = df['release_year'].astype('Int64')\n",
    "df = df.dropna(subset=['release_year'])"
   ]
  },
  {
   "cell_type": "code",
   "execution_count": null,
   "id": "74380897",
   "metadata": {},
   "outputs": [],
   "source": [
    "# Convert runtime minutes to integer \n",
    "df['runtime_minutes'] = df['runtime_minutes'].astype('Int64')\n",
    "\n",
    "# Convert vote count to integer \n",
    "df['vote_count'] = df['vote_count'].astype('Int64')"
   ]
  },
  {
   "cell_type": "code",
   "execution_count": 69,
   "id": "cf66d674",
   "metadata": {},
   "outputs": [
    {
     "name": "stdout",
     "output_type": "stream",
     "text": [
      "Movies data saved to ../data/movies.parquet\n"
     ]
    }
   ],
   "source": [
    "# Save as parquet in data directory\n",
    "output_path = data_dir / \"movies.parquet\"\n",
    "df.to_parquet(output_path, index=False)\n",
    "print(f\"Movies data saved to {output_path}\")"
   ]
  },
  {
   "cell_type": "code",
   "execution_count": 68,
   "id": "391903f2",
   "metadata": {},
   "outputs": [
    {
     "name": "stdout",
     "output_type": "stream",
     "text": [
      "Missing values in each column:\n",
      "Series([], dtype: int64)\n"
     ]
    }
   ],
   "source": [
    "missing_values = df.isnull().sum()\n",
    "print(\"Missing values in each column:\")\n",
    "print(missing_values[missing_values > 0])\n"
   ]
  }
 ],
 "metadata": {
  "kernelspec": {
   "display_name": "anaconda_environment_1",
   "language": "python",
   "name": "python3"
  },
  "language_info": {
   "codemirror_mode": {
    "name": "ipython",
    "version": 3
   },
   "file_extension": ".py",
   "mimetype": "text/x-python",
   "name": "python",
   "nbconvert_exporter": "python",
   "pygments_lexer": "ipython3",
   "version": "3.11.8"
  }
 },
 "nbformat": 4,
 "nbformat_minor": 5
}
