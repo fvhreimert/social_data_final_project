{
 "cells": [
  {
   "cell_type": "code",
   "execution_count": 19,
   "id": "07a0cab8",
   "metadata": {},
   "outputs": [],
   "source": [
    "import pandas as pd"
   ]
  },
  {
   "cell_type": "code",
   "execution_count": 18,
   "id": "0389dd36",
   "metadata": {},
   "outputs": [],
   "source": [
    "basics = pd.read_csv(\"../data/title.basics.tsv.gz\", sep='\\t', dtype=str, na_values='\\\\N')\n"
   ]
  },
  {
   "cell_type": "code",
   "execution_count": 20,
   "id": "c7efcac3",
   "metadata": {},
   "outputs": [
    {
     "data": {
      "text/plain": [
       "(11639217, 9)"
      ]
     },
     "execution_count": 20,
     "metadata": {},
     "output_type": "execute_result"
    }
   ],
   "source": [
    "basics.shape"
   ]
  },
  {
   "cell_type": "code",
   "execution_count": 24,
   "id": "d7103943",
   "metadata": {},
   "outputs": [
    {
     "data": {
      "text/html": [
       "<div>\n",
       "<style scoped>\n",
       "    .dataframe tbody tr th:only-of-type {\n",
       "        vertical-align: middle;\n",
       "    }\n",
       "\n",
       "    .dataframe tbody tr th {\n",
       "        vertical-align: top;\n",
       "    }\n",
       "\n",
       "    .dataframe thead th {\n",
       "        text-align: right;\n",
       "    }\n",
       "</style>\n",
       "<table border=\"1\" class=\"dataframe\">\n",
       "  <thead>\n",
       "    <tr style=\"text-align: right;\">\n",
       "      <th></th>\n",
       "      <th>tconst</th>\n",
       "      <th>titleType</th>\n",
       "      <th>primaryTitle</th>\n",
       "      <th>originalTitle</th>\n",
       "      <th>isAdult</th>\n",
       "      <th>startYear</th>\n",
       "      <th>endYear</th>\n",
       "      <th>runtimeMinutes</th>\n",
       "      <th>genres</th>\n",
       "    </tr>\n",
       "  </thead>\n",
       "  <tbody>\n",
       "    <tr>\n",
       "      <th>9043478</th>\n",
       "      <td>tt4154796</td>\n",
       "      <td>movie</td>\n",
       "      <td>Avengers: Endgame</td>\n",
       "      <td>Avengers: Endgame</td>\n",
       "      <td>0</td>\n",
       "      <td>2019</td>\n",
       "      <td>NaN</td>\n",
       "      <td>181</td>\n",
       "      <td>Action,Adventure,Sci-Fi</td>\n",
       "    </tr>\n",
       "  </tbody>\n",
       "</table>\n",
       "</div>"
      ],
      "text/plain": [
       "            tconst titleType       primaryTitle      originalTitle isAdult  \\\n",
       "9043478  tt4154796     movie  Avengers: Endgame  Avengers: Endgame       0   \n",
       "\n",
       "        startYear endYear runtimeMinutes                   genres  \n",
       "9043478      2019     NaN            181  Action,Adventure,Sci-Fi  "
      ]
     },
     "execution_count": 24,
     "metadata": {},
     "output_type": "execute_result"
    }
   ],
   "source": [
    "# Find avengers endgame movie row\n",
    "avengers_endgame = basics[(basics['primaryTitle'] == 'Avengers: Endgame') & (basics['titleType'] == 'movie')]\n",
    "avengers_endgame"
   ]
  },
  {
   "cell_type": "code",
   "execution_count": null,
   "id": "e103294d",
   "metadata": {},
   "outputs": [
    {
     "data": {
      "text/plain": [
       "(1565473, 3)"
      ]
     },
     "execution_count": 26,
     "metadata": {},
     "output_type": "execute_result"
    }
   ],
   "source": [
    "ratings = pd.read_csv(\"../data/title.ratings.tsv.gz\", sep='\\t', dtype=str, na_values='\\\\N')\n",
    "\n"
   ]
  },
  {
   "cell_type": "code",
   "execution_count": 28,
   "id": "b8428700",
   "metadata": {},
   "outputs": [
    {
     "data": {
      "text/html": [
       "<div>\n",
       "<style scoped>\n",
       "    .dataframe tbody tr th:only-of-type {\n",
       "        vertical-align: middle;\n",
       "    }\n",
       "\n",
       "    .dataframe tbody tr th {\n",
       "        vertical-align: top;\n",
       "    }\n",
       "\n",
       "    .dataframe thead th {\n",
       "        text-align: right;\n",
       "    }\n",
       "</style>\n",
       "<table border=\"1\" class=\"dataframe\">\n",
       "  <thead>\n",
       "    <tr style=\"text-align: right;\">\n",
       "      <th></th>\n",
       "      <th>tconst</th>\n",
       "      <th>averageRating</th>\n",
       "      <th>numVotes</th>\n",
       "    </tr>\n",
       "  </thead>\n",
       "  <tbody>\n",
       "    <tr>\n",
       "      <th>1254161</th>\n",
       "      <td>tt4154796</td>\n",
       "      <td>8.4</td>\n",
       "      <td>1354985</td>\n",
       "    </tr>\n",
       "  </tbody>\n",
       "</table>\n",
       "</div>"
      ],
      "text/plain": [
       "            tconst averageRating numVotes\n",
       "1254161  tt4154796           8.4  1354985"
      ]
     },
     "execution_count": 28,
     "metadata": {},
     "output_type": "execute_result"
    }
   ],
   "source": [
    "# Find avengers endgame ratings row\n",
    "avengers_endgame_ratings = ratings[ratings['tconst'] == avengers_endgame['tconst'].values[0]]\n",
    "avengers_endgame_ratings"
   ]
  },
  {
   "cell_type": "code",
   "execution_count": 29,
   "id": "3e57bccb",
   "metadata": {},
   "outputs": [],
   "source": [
    "akas = pd.read_csv(\"../data/title.akas.tsv.gz\", sep='\\t', dtype=str, na_values='\\\\N')\n"
   ]
  },
  {
   "cell_type": "code",
   "execution_count": 32,
   "id": "bd46f7fe",
   "metadata": {},
   "outputs": [
    {
     "data": {
      "text/html": [
       "<div>\n",
       "<style scoped>\n",
       "    .dataframe tbody tr th:only-of-type {\n",
       "        vertical-align: middle;\n",
       "    }\n",
       "\n",
       "    .dataframe tbody tr th {\n",
       "        vertical-align: top;\n",
       "    }\n",
       "\n",
       "    .dataframe thead th {\n",
       "        text-align: right;\n",
       "    }\n",
       "</style>\n",
       "<table border=\"1\" class=\"dataframe\">\n",
       "  <thead>\n",
       "    <tr style=\"text-align: right;\">\n",
       "      <th></th>\n",
       "      <th>titleId</th>\n",
       "      <th>ordering</th>\n",
       "      <th>title</th>\n",
       "      <th>region</th>\n",
       "      <th>language</th>\n",
       "      <th>types</th>\n",
       "      <th>attributes</th>\n",
       "      <th>isOriginalTitle</th>\n",
       "    </tr>\n",
       "  </thead>\n",
       "  <tbody>\n",
       "    <tr>\n",
       "      <th>40857240</th>\n",
       "      <td>tt4154796</td>\n",
       "      <td>1</td>\n",
       "      <td>Avengers: Endgame</td>\n",
       "      <td>NaN</td>\n",
       "      <td>NaN</td>\n",
       "      <td>original</td>\n",
       "      <td>NaN</td>\n",
       "      <td>1</td>\n",
       "    </tr>\n",
       "    <tr>\n",
       "      <th>40857241</th>\n",
       "      <td>tt4154796</td>\n",
       "      <td>10</td>\n",
       "      <td>Avengers: Endgame</td>\n",
       "      <td>CZ</td>\n",
       "      <td>NaN</td>\n",
       "      <td>imdbDisplay</td>\n",
       "      <td>NaN</td>\n",
       "      <td>0</td>\n",
       "    </tr>\n",
       "    <tr>\n",
       "      <th>40857242</th>\n",
       "      <td>tt4154796</td>\n",
       "      <td>11</td>\n",
       "      <td>Avengers: Endgame</td>\n",
       "      <td>DE</td>\n",
       "      <td>NaN</td>\n",
       "      <td>imdbDisplay</td>\n",
       "      <td>NaN</td>\n",
       "      <td>0</td>\n",
       "    </tr>\n",
       "    <tr>\n",
       "      <th>40857243</th>\n",
       "      <td>tt4154796</td>\n",
       "      <td>12</td>\n",
       "      <td>Avengers: Endgame</td>\n",
       "      <td>EC</td>\n",
       "      <td>NaN</td>\n",
       "      <td>imdbDisplay</td>\n",
       "      <td>NaN</td>\n",
       "      <td>0</td>\n",
       "    </tr>\n",
       "    <tr>\n",
       "      <th>40857244</th>\n",
       "      <td>tt4154796</td>\n",
       "      <td>13</td>\n",
       "      <td>Avengers: Endgame</td>\n",
       "      <td>EG</td>\n",
       "      <td>en</td>\n",
       "      <td>imdbDisplay</td>\n",
       "      <td>NaN</td>\n",
       "      <td>0</td>\n",
       "    </tr>\n",
       "    <tr>\n",
       "      <th>...</th>\n",
       "      <td>...</td>\n",
       "      <td>...</td>\n",
       "      <td>...</td>\n",
       "      <td>...</td>\n",
       "      <td>...</td>\n",
       "      <td>...</td>\n",
       "      <td>...</td>\n",
       "      <td>...</td>\n",
       "    </tr>\n",
       "    <tr>\n",
       "      <th>40857310</th>\n",
       "      <td>tt4154796</td>\n",
       "      <td>73</td>\n",
       "      <td>复联4</td>\n",
       "      <td>CN</td>\n",
       "      <td>cmn</td>\n",
       "      <td>alternative</td>\n",
       "      <td>NaN</td>\n",
       "      <td>0</td>\n",
       "    </tr>\n",
       "    <tr>\n",
       "      <th>40857311</th>\n",
       "      <td>tt4154796</td>\n",
       "      <td>74</td>\n",
       "      <td>復仇者聯盟：終局之戰</td>\n",
       "      <td>TW</td>\n",
       "      <td>NaN</td>\n",
       "      <td>imdbDisplay</td>\n",
       "      <td>NaN</td>\n",
       "      <td>0</td>\n",
       "    </tr>\n",
       "    <tr>\n",
       "      <th>40857312</th>\n",
       "      <td>tt4154796</td>\n",
       "      <td>75</td>\n",
       "      <td>Avengers: Endgame</td>\n",
       "      <td>US</td>\n",
       "      <td>en</td>\n",
       "      <td>NaN</td>\n",
       "      <td>NaN</td>\n",
       "      <td>0</td>\n",
       "    </tr>\n",
       "    <tr>\n",
       "      <th>40857313</th>\n",
       "      <td>tt4154796</td>\n",
       "      <td>8</td>\n",
       "      <td>Avengers: Endgame</td>\n",
       "      <td>CL</td>\n",
       "      <td>NaN</td>\n",
       "      <td>imdbDisplay</td>\n",
       "      <td>NaN</td>\n",
       "      <td>0</td>\n",
       "    </tr>\n",
       "    <tr>\n",
       "      <th>40857314</th>\n",
       "      <td>tt4154796</td>\n",
       "      <td>9</td>\n",
       "      <td>Avengers: Endgame</td>\n",
       "      <td>CO</td>\n",
       "      <td>NaN</td>\n",
       "      <td>imdbDisplay</td>\n",
       "      <td>NaN</td>\n",
       "      <td>0</td>\n",
       "    </tr>\n",
       "  </tbody>\n",
       "</table>\n",
       "<p>75 rows × 8 columns</p>\n",
       "</div>"
      ],
      "text/plain": [
       "            titleId ordering              title region language        types  \\\n",
       "40857240  tt4154796        1  Avengers: Endgame    NaN      NaN     original   \n",
       "40857241  tt4154796       10  Avengers: Endgame     CZ      NaN  imdbDisplay   \n",
       "40857242  tt4154796       11  Avengers: Endgame     DE      NaN  imdbDisplay   \n",
       "40857243  tt4154796       12  Avengers: Endgame     EC      NaN  imdbDisplay   \n",
       "40857244  tt4154796       13  Avengers: Endgame     EG       en  imdbDisplay   \n",
       "...             ...      ...                ...    ...      ...          ...   \n",
       "40857310  tt4154796       73                复联4     CN      cmn  alternative   \n",
       "40857311  tt4154796       74         復仇者聯盟：終局之戰     TW      NaN  imdbDisplay   \n",
       "40857312  tt4154796       75  Avengers: Endgame     US       en          NaN   \n",
       "40857313  tt4154796        8  Avengers: Endgame     CL      NaN  imdbDisplay   \n",
       "40857314  tt4154796        9  Avengers: Endgame     CO      NaN  imdbDisplay   \n",
       "\n",
       "         attributes isOriginalTitle  \n",
       "40857240        NaN               1  \n",
       "40857241        NaN               0  \n",
       "40857242        NaN               0  \n",
       "40857243        NaN               0  \n",
       "40857244        NaN               0  \n",
       "...             ...             ...  \n",
       "40857310        NaN               0  \n",
       "40857311        NaN               0  \n",
       "40857312        NaN               0  \n",
       "40857313        NaN               0  \n",
       "40857314        NaN               0  \n",
       "\n",
       "[75 rows x 8 columns]"
      ]
     },
     "execution_count": 32,
     "metadata": {},
     "output_type": "execute_result"
    }
   ],
   "source": [
    "# Find avengers endgame akas row\n",
    "avengers_endgame_akas = akas[akas['titleId'] == avengers_endgame['tconst'].values[0]]\n",
    "avengers_endgame_akas"
   ]
  },
  {
   "cell_type": "code",
   "execution_count": null,
   "id": "0758fec8",
   "metadata": {},
   "outputs": [
    {
     "name": "stdout",
     "output_type": "stream",
     "text": [
      "Index(['title_id', 'title', 'original_title', 'release_year',\n",
      "       'runtime_minutes', 'genre', 'imdb_rating', 'vote_count',\n",
      "       'production_country'],\n",
      "      dtype='object')\n",
      "    title_id                          title                 original_title  \\\n",
      "0  tt0000009                     Miss Jerry                     Miss Jerry   \n",
      "1  tt0000147  The Corbett-Fitzsimmons Fight  The Corbett-Fitzsimmons Fight   \n",
      "2  tt0000502                       Bohemios                       Bohemios   \n",
      "3  tt0000574    The Story of the Kelly Gang    The Story of the Kelly Gang   \n",
      "4  tt0000591               The Prodigal Son              L'enfant prodigue   \n",
      "\n",
      "   release_year  runtime_minutes                       genre  imdb_rating  \\\n",
      "0        1894.0             45.0                     Romance          5.4   \n",
      "1        1897.0            100.0      Documentary,News,Sport          5.3   \n",
      "2        1905.0            100.0                         NaN          3.8   \n",
      "3        1906.0             70.0  Action,Adventure,Biography          6.0   \n",
      "4        1907.0             90.0                       Drama          5.6   \n",
      "\n",
      "   vote_count    production_country  \n",
      "0       223.0           AU|DE|HU|US  \n",
      "1       559.0                 RU|US  \n",
      "2        21.0                    ES  \n",
      "3       985.0  AU|DE|GB|HU|RS|SG|US  \n",
      "4        31.0                 FR|US  \n"
     ]
    }
   ],
   "source": [
    "\n",
    "# Load data\n",
    "basics = pd.read_csv(\"../data/title.basics.tsv.gz\", sep='\\t', dtype=str, na_values='\\\\N')\n",
    "ratings = pd.read_csv(\"../data/title.ratings.tsv.gz\", sep='\\t', dtype=str, na_values='\\\\N')\n",
    "akas = pd.read_csv(\"../data/title.akas.tsv.gz\", sep='\\t', dtype=str, na_values='\\\\N')\n",
    "\n",
    "# Filter to only movies\n",
    "basics = basics[basics['titleType'] == 'movie']\n",
    "\n",
    "# Merge title.basics with ratings\n",
    "df = basics.merge(ratings, on='tconst', how='left')\n",
    "\n",
    "# Aggregate production countries from akas (all available regions)\n",
    "region_df = akas[['titleId', 'region']].dropna()\n",
    "region_agg = region_df.groupby('titleId')['region'].agg(lambda x: '|'.join(sorted(set(x)))).reset_index()\n",
    "region_agg = region_agg.rename(columns={'titleId': 'tconst', 'region': 'production_country'})\n",
    "\n",
    "# Merge country info\n",
    "df = df.merge(region_agg, on='tconst', how='left')\n",
    "\n",
    "# Select and rename columns\n",
    "df_final = df[[\n",
    "    'tconst', 'primaryTitle', 'originalTitle', 'startYear',\n",
    "    'runtimeMinutes', 'genres', 'averageRating', 'numVotes', 'production_country'\n",
    "]].rename(columns={\n",
    "    'tconst': 'title_id',\n",
    "    'primaryTitle': 'title',\n",
    "    'originalTitle': 'original_title',\n",
    "    'startYear': 'release_year',\n",
    "    'runtimeMinutes': 'runtime_minutes',\n",
    "    'genres': 'genre',\n",
    "    'averageRating': 'imdb_rating',\n",
    "    'numVotes': 'vote_count'\n",
    "})\n",
    "\n",
    "# Convert types\n",
    "df_final['release_year'] = pd.to_numeric(df_final['release_year'], errors='coerce')\n",
    "df_final['runtime_minutes'] = pd.to_numeric(df_final['runtime_minutes'], errors='coerce')\n",
    "df_final['imdb_rating'] = pd.to_numeric(df_final['imdb_rating'], errors='coerce')\n",
    "df_final['vote_count'] = pd.to_numeric(df_final['vote_count'], errors='coerce')\n",
    "\n",
    "# Verify columns\n",
    "print(df_final.columns)\n",
    "print(df_final.head())\n"
   ]
  },
  {
   "cell_type": "code",
   "execution_count": 22,
   "id": "2fac5456",
   "metadata": {},
   "outputs": [
    {
     "data": {
      "text/plain": [
       "(714015, 9)"
      ]
     },
     "execution_count": 22,
     "metadata": {},
     "output_type": "execute_result"
    }
   ],
   "source": [
    "df_final.shape"
   ]
  },
  {
   "cell_type": "code",
   "execution_count": 15,
   "id": "625977c6",
   "metadata": {},
   "outputs": [],
   "source": [
    "# Convert year and minutes to integers\n",
    "df_final['release_year'] = df_final['release_year'].astype('Int64')\n",
    "df_final['runtime_minutes'] = df_final['runtime_minutes'].astype('Int64')\n",
    "\n",
    "# Convert vote_count to integer\n",
    "df_final['vote_count'] = df_final['vote_count'].astype('Int64')\n"
   ]
  },
  {
   "cell_type": "code",
   "execution_count": 16,
   "id": "877bf2c3",
   "metadata": {},
   "outputs": [
    {
     "data": {
      "text/html": [
       "<div>\n",
       "<style scoped>\n",
       "    .dataframe tbody tr th:only-of-type {\n",
       "        vertical-align: middle;\n",
       "    }\n",
       "\n",
       "    .dataframe tbody tr th {\n",
       "        vertical-align: top;\n",
       "    }\n",
       "\n",
       "    .dataframe thead th {\n",
       "        text-align: right;\n",
       "    }\n",
       "</style>\n",
       "<table border=\"1\" class=\"dataframe\">\n",
       "  <thead>\n",
       "    <tr style=\"text-align: right;\">\n",
       "      <th></th>\n",
       "      <th>title_id</th>\n",
       "      <th>title</th>\n",
       "      <th>original_title</th>\n",
       "      <th>release_year</th>\n",
       "      <th>runtime_minutes</th>\n",
       "      <th>genre</th>\n",
       "      <th>imdb_rating</th>\n",
       "      <th>vote_count</th>\n",
       "      <th>production_country</th>\n",
       "    </tr>\n",
       "  </thead>\n",
       "  <tbody>\n",
       "    <tr>\n",
       "      <th>0</th>\n",
       "      <td>tt0000009</td>\n",
       "      <td>Miss Jerry</td>\n",
       "      <td>Miss Jerry</td>\n",
       "      <td>1894</td>\n",
       "      <td>45</td>\n",
       "      <td>Romance</td>\n",
       "      <td>5.4</td>\n",
       "      <td>223</td>\n",
       "      <td>AU|DE|HU|US</td>\n",
       "    </tr>\n",
       "    <tr>\n",
       "      <th>1</th>\n",
       "      <td>tt0000147</td>\n",
       "      <td>The Corbett-Fitzsimmons Fight</td>\n",
       "      <td>The Corbett-Fitzsimmons Fight</td>\n",
       "      <td>1897</td>\n",
       "      <td>100</td>\n",
       "      <td>Documentary,News,Sport</td>\n",
       "      <td>5.3</td>\n",
       "      <td>559</td>\n",
       "      <td>RU|US</td>\n",
       "    </tr>\n",
       "    <tr>\n",
       "      <th>2</th>\n",
       "      <td>tt0000502</td>\n",
       "      <td>Bohemios</td>\n",
       "      <td>Bohemios</td>\n",
       "      <td>1905</td>\n",
       "      <td>100</td>\n",
       "      <td>NaN</td>\n",
       "      <td>3.8</td>\n",
       "      <td>21</td>\n",
       "      <td>ES</td>\n",
       "    </tr>\n",
       "    <tr>\n",
       "      <th>3</th>\n",
       "      <td>tt0000574</td>\n",
       "      <td>The Story of the Kelly Gang</td>\n",
       "      <td>The Story of the Kelly Gang</td>\n",
       "      <td>1906</td>\n",
       "      <td>70</td>\n",
       "      <td>Action,Adventure,Biography</td>\n",
       "      <td>6.0</td>\n",
       "      <td>985</td>\n",
       "      <td>AU|DE|GB|HU|RS|SG|US</td>\n",
       "    </tr>\n",
       "    <tr>\n",
       "      <th>4</th>\n",
       "      <td>tt0000591</td>\n",
       "      <td>The Prodigal Son</td>\n",
       "      <td>L'enfant prodigue</td>\n",
       "      <td>1907</td>\n",
       "      <td>90</td>\n",
       "      <td>Drama</td>\n",
       "      <td>5.6</td>\n",
       "      <td>31</td>\n",
       "      <td>FR|US</td>\n",
       "    </tr>\n",
       "  </tbody>\n",
       "</table>\n",
       "</div>"
      ],
      "text/plain": [
       "    title_id                          title                 original_title  \\\n",
       "0  tt0000009                     Miss Jerry                     Miss Jerry   \n",
       "1  tt0000147  The Corbett-Fitzsimmons Fight  The Corbett-Fitzsimmons Fight   \n",
       "2  tt0000502                       Bohemios                       Bohemios   \n",
       "3  tt0000574    The Story of the Kelly Gang    The Story of the Kelly Gang   \n",
       "4  tt0000591               The Prodigal Son              L'enfant prodigue   \n",
       "\n",
       "   release_year  runtime_minutes                       genre  imdb_rating  \\\n",
       "0          1894               45                     Romance          5.4   \n",
       "1          1897              100      Documentary,News,Sport          5.3   \n",
       "2          1905              100                         NaN          3.8   \n",
       "3          1906               70  Action,Adventure,Biography          6.0   \n",
       "4          1907               90                       Drama          5.6   \n",
       "\n",
       "   vote_count    production_country  \n",
       "0         223           AU|DE|HU|US  \n",
       "1         559                 RU|US  \n",
       "2          21                    ES  \n",
       "3         985  AU|DE|GB|HU|RS|SG|US  \n",
       "4          31                 FR|US  "
      ]
     },
     "execution_count": 16,
     "metadata": {},
     "output_type": "execute_result"
    }
   ],
   "source": [
    "df_final.head()"
   ]
  },
  {
   "cell_type": "code",
   "execution_count": 25,
   "id": "82e6770d",
   "metadata": {},
   "outputs": [],
   "source": [
    "# save as parquet../data/movies.parquet\n",
    "df_final.to_parquet(\"../data/movies.parquet\", index=False, engine='pyarrow')"
   ]
  },
  {
   "cell_type": "code",
   "execution_count": 26,
   "id": "982195b0",
   "metadata": {},
   "outputs": [
    {
     "data": {
      "text/plain": [
       "(714015, 9)"
      ]
     },
     "execution_count": 26,
     "metadata": {},
     "output_type": "execute_result"
    }
   ],
   "source": [
    "df_final.shape"
   ]
  },
  {
   "cell_type": "code",
   "execution_count": 17,
   "id": "1b899276",
   "metadata": {},
   "outputs": [
    {
     "name": "stdout",
     "output_type": "stream",
     "text": [
      "| Column | Data Type | Non-Missing | Missing | Unique Values | Example |\n",
      "|--------|------------|--------------|---------|----------------|---------|\n",
      "| title_id | object | 714015 | 0 | 714015 | tt0000009 |\n",
      "| title | object | 714013 | 2 | 613714 | Miss Jerry |\n",
      "| original_title | object | 714013 | 2 | 627750 | Miss Jerry |\n",
      "| release_year | Int64 | 608940 | 105075 | 139 | 1894 |\n",
      "| runtime_minutes | Int64 | 450303 | 263712 | 510 | 45 |\n",
      "| genre | object | 637026 | 76989 | 1494 | Romance |\n",
      "| imdb_rating | float64 | 329613 | 384402 | 91 | 5.4 |\n",
      "| vote_count | Int64 | 329613 | 384402 | 19061 | 223 |\n",
      "| production_country | object | 699897 | 14118 | 118177 | AU|DE|HU|US |\n"
     ]
    }
   ],
   "source": [
    "def describe_dataframe_for_markdown(df):\n",
    "    summary = []\n",
    "    for col in df.columns:\n",
    "        dtype = df[col].dtype\n",
    "        non_null = df[col].notnull().sum()\n",
    "        nulls = df[col].isnull().sum()\n",
    "        unique = df[col].nunique(dropna=True)\n",
    "        example = df[col].dropna().iloc[0] if df[col].notna().any() else \"NaN\"\n",
    "        summary.append([col, str(dtype), non_null, nulls, unique, str(example)])\n",
    "\n",
    "    header = \"| Column | Data Type | Non-Missing | Missing | Unique Values | Example |\"\n",
    "    divider = \"|--------|------------|--------------|---------|----------------|---------|\"\n",
    "    lines = [header, divider]\n",
    "    for row in summary:\n",
    "        lines.append(\"| \" + \" | \".join(map(str, row)) + \" |\")\n",
    "    \n",
    "    markdown_output = \"\\n\".join(lines)\n",
    "    print(markdown_output)\n",
    "\n",
    "# Use it on your df_final\n",
    "describe_dataframe_for_markdown(df_final)\n"
   ]
  }
 ],
 "metadata": {
  "kernelspec": {
   "display_name": "anaconda_environment_1",
   "language": "python",
   "name": "python3"
  },
  "language_info": {
   "codemirror_mode": {
    "name": "ipython",
    "version": 3
   },
   "file_extension": ".py",
   "mimetype": "text/x-python",
   "name": "python",
   "nbconvert_exporter": "python",
   "pygments_lexer": "ipython3",
   "version": "3.11.8"
  }
 },
 "nbformat": 4,
 "nbformat_minor": 5
}
