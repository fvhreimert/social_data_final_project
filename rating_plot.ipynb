{
 "cells": [
  {
   "cell_type": "code",
   "execution_count": 1,
   "id": "d8fdb5fb",
   "metadata": {},
   "outputs": [],
   "source": [
    "import pandas as pd\n",
    "import numpy as np # For sample data generation\n",
    "import plotly.express as px\n",
    "import plotly.graph_objects as go # For more detailed layout control\n",
    "import random\n",
    "import plot_style"
   ]
  },
  {
   "cell_type": "code",
   "execution_count": 2,
   "id": "a929865f",
   "metadata": {},
   "outputs": [],
   "source": [
    "# Read /Users/frederikreimert/Library/CloudStorage/OneDrive-DanmarksTekniskeUniversitet/Kandidat_DTU/2025F/02806 Social Data Analysis and Visualization/final_project/data/movies_with_release_dates_status_filtered.parquet\n",
    "\n",
    "df = pd.read_parquet(\"../data/movies_with_release_dates_status_filtered.parquet\") # Adjust path if needed"
   ]
  },
  {
   "cell_type": "code",
   "execution_count": 3,
   "id": "c1a72d78",
   "metadata": {},
   "outputs": [
    {
     "data": {
      "text/plain": [
       "Index(['title_id', 'title', 'original_title', 'release_year',\n",
       "       'runtime_minutes', 'genre', 'imdb_rating', 'vote_count',\n",
       "       'production_country', 'release_date_full', 'fetch_status'],\n",
       "      dtype='object')"
      ]
     },
     "execution_count": 3,
     "metadata": {},
     "output_type": "execute_result"
    }
   ],
   "source": [
    "df.columns"
   ]
  },
  {
   "cell_type": "code",
   "execution_count": 4,
   "id": "92d202b0",
   "metadata": {},
   "outputs": [
    {
     "data": {
      "text/plain": [
       "(714015, 11)"
      ]
     },
     "execution_count": 4,
     "metadata": {},
     "output_type": "execute_result"
    }
   ],
   "source": [
    "df.shape"
   ]
  },
  {
   "cell_type": "code",
   "execution_count": 5,
   "id": "02039acb",
   "metadata": {},
   "outputs": [
    {
     "data": {
      "application/vnd.plotly.v1+json": {
       "config": {
        "plotlyServerURL": "https://plot.ly"
       },
       "data": [
        {
         "customdata": [
          [
           7.218488070591546,
           77.61105949348119,
           133969
          ],
          [
           6.254231330206399,
           95.7023576290885,
           186315
          ],
          [
           6.078369539827143,
           101.41015775298192,
           10069
          ],
          [
           6.064086935106514,
           92.95353099730458,
           25089
          ],
          [
           5.934671280276816,
           89.97391419491525,
           20926
          ],
          [
           5.910945008008543,
           91.26186029137094,
           4443
          ],
          [
           5.9004345278083505,
           92.38841155825041,
           106320
          ],
          [
           5.729745911649935,
           100.86292851735698,
           58950
          ],
          [
           5.666309778729479,
           92.76761793826441,
           17719
          ],
          [
           4.823815060529376,
           86.92371731623088,
           29122
          ]
         ],
         "hovertemplate": "<b>%{x}</b><br><br>Average IMDb Rating: %{customdata[0]:.1f}<br>Average Runtime: %{customdata[1]:.0f} min<br>Number of Movies: %{customdata[2]:,}<extra></extra>",
         "marker": {
          "color": [
           "#428fc9",
           "#003f5c",
           "#ff7b9c",
           "#2f4f4f",
           "#556b2f",
           "#6a0dad",
           "#f9a602",
           "#ef562f",
           "#008080",
           "#8b0000"
          ]
         },
         "text": [
          7.2,
          6.3,
          6.1,
          6.1,
          5.9,
          5.9,
          5.9,
          5.7,
          5.7,
          4.8
         ],
         "textfont": {
          "color": "black",
          "size": 10
         },
         "textposition": "outside",
         "type": "bar",
         "x": [
          "Documentary",
          "Drama",
          "Romance",
          "Crime",
          "Adventure",
          "Mystery",
          "Comedy",
          "Action",
          "Thriller",
          "Horror"
         ],
         "y": [
          7.218488070591546,
          6.254231330206399,
          6.078369539827143,
          6.064086935106514,
          5.934671280276816,
          5.910945008008543,
          5.9004345278083505,
          5.729745911649935,
          5.666309778729479,
          4.823815060529376
         ]
        }
       ],
       "layout": {
        "autosize": false,
        "bargap": 0.2,
        "font": {
         "color": "black",
         "family": "Arial, Helvetica, sans-serif",
         "size": 12
        },
        "height": 605,
        "hoverlabel": {
         "bgcolor": "rgba(255,255,255,0.9)",
         "bordercolor": "rgba(128,128,128,0.5)",
         "font": {
          "family": "Arial, Helvetica, sans-serif",
          "size": 13
         }
        },
        "margin": {
         "b": 40,
         "l": 80,
         "r": 40,
         "t": 170
        },
        "paper_bgcolor": "white",
        "plot_bgcolor": "white",
        "showlegend": false,
        "template": {
         "data": {
          "bar": [
           {
            "error_x": {
             "color": "#2a3f5f"
            },
            "error_y": {
             "color": "#2a3f5f"
            },
            "marker": {
             "line": {
              "color": "#E5ECF6",
              "width": 0.5
             },
             "pattern": {
              "fillmode": "overlay",
              "size": 10,
              "solidity": 0.2
             }
            },
            "type": "bar"
           }
          ],
          "barpolar": [
           {
            "marker": {
             "line": {
              "color": "#E5ECF6",
              "width": 0.5
             },
             "pattern": {
              "fillmode": "overlay",
              "size": 10,
              "solidity": 0.2
             }
            },
            "type": "barpolar"
           }
          ],
          "carpet": [
           {
            "aaxis": {
             "endlinecolor": "#2a3f5f",
             "gridcolor": "white",
             "linecolor": "white",
             "minorgridcolor": "white",
             "startlinecolor": "#2a3f5f"
            },
            "baxis": {
             "endlinecolor": "#2a3f5f",
             "gridcolor": "white",
             "linecolor": "white",
             "minorgridcolor": "white",
             "startlinecolor": "#2a3f5f"
            },
            "type": "carpet"
           }
          ],
          "choropleth": [
           {
            "colorbar": {
             "outlinewidth": 0,
             "ticks": ""
            },
            "type": "choropleth"
           }
          ],
          "contour": [
           {
            "colorbar": {
             "outlinewidth": 0,
             "ticks": ""
            },
            "colorscale": [
             [
              0,
              "#0d0887"
             ],
             [
              0.1111111111111111,
              "#46039f"
             ],
             [
              0.2222222222222222,
              "#7201a8"
             ],
             [
              0.3333333333333333,
              "#9c179e"
             ],
             [
              0.4444444444444444,
              "#bd3786"
             ],
             [
              0.5555555555555556,
              "#d8576b"
             ],
             [
              0.6666666666666666,
              "#ed7953"
             ],
             [
              0.7777777777777778,
              "#fb9f3a"
             ],
             [
              0.8888888888888888,
              "#fdca26"
             ],
             [
              1,
              "#f0f921"
             ]
            ],
            "type": "contour"
           }
          ],
          "contourcarpet": [
           {
            "colorbar": {
             "outlinewidth": 0,
             "ticks": ""
            },
            "type": "contourcarpet"
           }
          ],
          "heatmap": [
           {
            "colorbar": {
             "outlinewidth": 0,
             "ticks": ""
            },
            "colorscale": [
             [
              0,
              "#0d0887"
             ],
             [
              0.1111111111111111,
              "#46039f"
             ],
             [
              0.2222222222222222,
              "#7201a8"
             ],
             [
              0.3333333333333333,
              "#9c179e"
             ],
             [
              0.4444444444444444,
              "#bd3786"
             ],
             [
              0.5555555555555556,
              "#d8576b"
             ],
             [
              0.6666666666666666,
              "#ed7953"
             ],
             [
              0.7777777777777778,
              "#fb9f3a"
             ],
             [
              0.8888888888888888,
              "#fdca26"
             ],
             [
              1,
              "#f0f921"
             ]
            ],
            "type": "heatmap"
           }
          ],
          "heatmapgl": [
           {
            "colorbar": {
             "outlinewidth": 0,
             "ticks": ""
            },
            "colorscale": [
             [
              0,
              "#0d0887"
             ],
             [
              0.1111111111111111,
              "#46039f"
             ],
             [
              0.2222222222222222,
              "#7201a8"
             ],
             [
              0.3333333333333333,
              "#9c179e"
             ],
             [
              0.4444444444444444,
              "#bd3786"
             ],
             [
              0.5555555555555556,
              "#d8576b"
             ],
             [
              0.6666666666666666,
              "#ed7953"
             ],
             [
              0.7777777777777778,
              "#fb9f3a"
             ],
             [
              0.8888888888888888,
              "#fdca26"
             ],
             [
              1,
              "#f0f921"
             ]
            ],
            "type": "heatmapgl"
           }
          ],
          "histogram": [
           {
            "marker": {
             "pattern": {
              "fillmode": "overlay",
              "size": 10,
              "solidity": 0.2
             }
            },
            "type": "histogram"
           }
          ],
          "histogram2d": [
           {
            "colorbar": {
             "outlinewidth": 0,
             "ticks": ""
            },
            "colorscale": [
             [
              0,
              "#0d0887"
             ],
             [
              0.1111111111111111,
              "#46039f"
             ],
             [
              0.2222222222222222,
              "#7201a8"
             ],
             [
              0.3333333333333333,
              "#9c179e"
             ],
             [
              0.4444444444444444,
              "#bd3786"
             ],
             [
              0.5555555555555556,
              "#d8576b"
             ],
             [
              0.6666666666666666,
              "#ed7953"
             ],
             [
              0.7777777777777778,
              "#fb9f3a"
             ],
             [
              0.8888888888888888,
              "#fdca26"
             ],
             [
              1,
              "#f0f921"
             ]
            ],
            "type": "histogram2d"
           }
          ],
          "histogram2dcontour": [
           {
            "colorbar": {
             "outlinewidth": 0,
             "ticks": ""
            },
            "colorscale": [
             [
              0,
              "#0d0887"
             ],
             [
              0.1111111111111111,
              "#46039f"
             ],
             [
              0.2222222222222222,
              "#7201a8"
             ],
             [
              0.3333333333333333,
              "#9c179e"
             ],
             [
              0.4444444444444444,
              "#bd3786"
             ],
             [
              0.5555555555555556,
              "#d8576b"
             ],
             [
              0.6666666666666666,
              "#ed7953"
             ],
             [
              0.7777777777777778,
              "#fb9f3a"
             ],
             [
              0.8888888888888888,
              "#fdca26"
             ],
             [
              1,
              "#f0f921"
             ]
            ],
            "type": "histogram2dcontour"
           }
          ],
          "mesh3d": [
           {
            "colorbar": {
             "outlinewidth": 0,
             "ticks": ""
            },
            "type": "mesh3d"
           }
          ],
          "parcoords": [
           {
            "line": {
             "colorbar": {
              "outlinewidth": 0,
              "ticks": ""
             }
            },
            "type": "parcoords"
           }
          ],
          "pie": [
           {
            "automargin": true,
            "type": "pie"
           }
          ],
          "scatter": [
           {
            "fillpattern": {
             "fillmode": "overlay",
             "size": 10,
             "solidity": 0.2
            },
            "type": "scatter"
           }
          ],
          "scatter3d": [
           {
            "line": {
             "colorbar": {
              "outlinewidth": 0,
              "ticks": ""
             }
            },
            "marker": {
             "colorbar": {
              "outlinewidth": 0,
              "ticks": ""
             }
            },
            "type": "scatter3d"
           }
          ],
          "scattercarpet": [
           {
            "marker": {
             "colorbar": {
              "outlinewidth": 0,
              "ticks": ""
             }
            },
            "type": "scattercarpet"
           }
          ],
          "scattergeo": [
           {
            "marker": {
             "colorbar": {
              "outlinewidth": 0,
              "ticks": ""
             }
            },
            "type": "scattergeo"
           }
          ],
          "scattergl": [
           {
            "marker": {
             "colorbar": {
              "outlinewidth": 0,
              "ticks": ""
             }
            },
            "type": "scattergl"
           }
          ],
          "scattermapbox": [
           {
            "marker": {
             "colorbar": {
              "outlinewidth": 0,
              "ticks": ""
             }
            },
            "type": "scattermapbox"
           }
          ],
          "scatterpolar": [
           {
            "marker": {
             "colorbar": {
              "outlinewidth": 0,
              "ticks": ""
             }
            },
            "type": "scatterpolar"
           }
          ],
          "scatterpolargl": [
           {
            "marker": {
             "colorbar": {
              "outlinewidth": 0,
              "ticks": ""
             }
            },
            "type": "scatterpolargl"
           }
          ],
          "scatterternary": [
           {
            "marker": {
             "colorbar": {
              "outlinewidth": 0,
              "ticks": ""
             }
            },
            "type": "scatterternary"
           }
          ],
          "surface": [
           {
            "colorbar": {
             "outlinewidth": 0,
             "ticks": ""
            },
            "colorscale": [
             [
              0,
              "#0d0887"
             ],
             [
              0.1111111111111111,
              "#46039f"
             ],
             [
              0.2222222222222222,
              "#7201a8"
             ],
             [
              0.3333333333333333,
              "#9c179e"
             ],
             [
              0.4444444444444444,
              "#bd3786"
             ],
             [
              0.5555555555555556,
              "#d8576b"
             ],
             [
              0.6666666666666666,
              "#ed7953"
             ],
             [
              0.7777777777777778,
              "#fb9f3a"
             ],
             [
              0.8888888888888888,
              "#fdca26"
             ],
             [
              1,
              "#f0f921"
             ]
            ],
            "type": "surface"
           }
          ],
          "table": [
           {
            "cells": {
             "fill": {
              "color": "#EBF0F8"
             },
             "line": {
              "color": "white"
             }
            },
            "header": {
             "fill": {
              "color": "#C8D4E3"
             },
             "line": {
              "color": "white"
             }
            },
            "type": "table"
           }
          ]
         },
         "layout": {
          "annotationdefaults": {
           "arrowcolor": "#2a3f5f",
           "arrowhead": 0,
           "arrowwidth": 1
          },
          "autotypenumbers": "strict",
          "coloraxis": {
           "colorbar": {
            "outlinewidth": 0,
            "ticks": ""
           }
          },
          "colorscale": {
           "diverging": [
            [
             0,
             "#8e0152"
            ],
            [
             0.1,
             "#c51b7d"
            ],
            [
             0.2,
             "#de77ae"
            ],
            [
             0.3,
             "#f1b6da"
            ],
            [
             0.4,
             "#fde0ef"
            ],
            [
             0.5,
             "#f7f7f7"
            ],
            [
             0.6,
             "#e6f5d0"
            ],
            [
             0.7,
             "#b8e186"
            ],
            [
             0.8,
             "#7fbc41"
            ],
            [
             0.9,
             "#4d9221"
            ],
            [
             1,
             "#276419"
            ]
           ],
           "sequential": [
            [
             0,
             "#0d0887"
            ],
            [
             0.1111111111111111,
             "#46039f"
            ],
            [
             0.2222222222222222,
             "#7201a8"
            ],
            [
             0.3333333333333333,
             "#9c179e"
            ],
            [
             0.4444444444444444,
             "#bd3786"
            ],
            [
             0.5555555555555556,
             "#d8576b"
            ],
            [
             0.6666666666666666,
             "#ed7953"
            ],
            [
             0.7777777777777778,
             "#fb9f3a"
            ],
            [
             0.8888888888888888,
             "#fdca26"
            ],
            [
             1,
             "#f0f921"
            ]
           ],
           "sequentialminus": [
            [
             0,
             "#0d0887"
            ],
            [
             0.1111111111111111,
             "#46039f"
            ],
            [
             0.2222222222222222,
             "#7201a8"
            ],
            [
             0.3333333333333333,
             "#9c179e"
            ],
            [
             0.4444444444444444,
             "#bd3786"
            ],
            [
             0.5555555555555556,
             "#d8576b"
            ],
            [
             0.6666666666666666,
             "#ed7953"
            ],
            [
             0.7777777777777778,
             "#fb9f3a"
            ],
            [
             0.8888888888888888,
             "#fdca26"
            ],
            [
             1,
             "#f0f921"
            ]
           ]
          },
          "colorway": [
           "#636efa",
           "#EF553B",
           "#00cc96",
           "#ab63fa",
           "#FFA15A",
           "#19d3f3",
           "#FF6692",
           "#B6E880",
           "#FF97FF",
           "#FECB52"
          ],
          "font": {
           "color": "#2a3f5f"
          },
          "geo": {
           "bgcolor": "white",
           "lakecolor": "white",
           "landcolor": "#E5ECF6",
           "showlakes": true,
           "showland": true,
           "subunitcolor": "white"
          },
          "hoverlabel": {
           "align": "left"
          },
          "hovermode": "closest",
          "mapbox": {
           "style": "light"
          },
          "paper_bgcolor": "white",
          "plot_bgcolor": "#E5ECF6",
          "polar": {
           "angularaxis": {
            "gridcolor": "white",
            "linecolor": "white",
            "ticks": ""
           },
           "bgcolor": "#E5ECF6",
           "radialaxis": {
            "gridcolor": "white",
            "linecolor": "white",
            "ticks": ""
           }
          },
          "scene": {
           "xaxis": {
            "backgroundcolor": "#E5ECF6",
            "gridcolor": "white",
            "gridwidth": 2,
            "linecolor": "white",
            "showbackground": true,
            "ticks": "",
            "zerolinecolor": "white"
           },
           "yaxis": {
            "backgroundcolor": "#E5ECF6",
            "gridcolor": "white",
            "gridwidth": 2,
            "linecolor": "white",
            "showbackground": true,
            "ticks": "",
            "zerolinecolor": "white"
           },
           "zaxis": {
            "backgroundcolor": "#E5ECF6",
            "gridcolor": "white",
            "gridwidth": 2,
            "linecolor": "white",
            "showbackground": true,
            "ticks": "",
            "zerolinecolor": "white"
           }
          },
          "shapedefaults": {
           "line": {
            "color": "#2a3f5f"
           }
          },
          "ternary": {
           "aaxis": {
            "gridcolor": "white",
            "linecolor": "white",
            "ticks": ""
           },
           "baxis": {
            "gridcolor": "white",
            "linecolor": "white",
            "ticks": ""
           },
           "bgcolor": "#E5ECF6",
           "caxis": {
            "gridcolor": "white",
            "linecolor": "white",
            "ticks": ""
           }
          },
          "title": {
           "x": 0.05
          },
          "xaxis": {
           "automargin": true,
           "gridcolor": "white",
           "linecolor": "white",
           "ticks": "",
           "title": {
            "standoff": 15
           },
           "zerolinecolor": "white",
           "zerolinewidth": 2
          },
          "yaxis": {
           "automargin": true,
           "gridcolor": "white",
           "linecolor": "white",
           "ticks": "",
           "title": {
            "standoff": 15
           },
           "zerolinecolor": "white",
           "zerolinewidth": 2
          }
         }
        },
        "title": {
         "font": {
          "color": "black",
          "size": 20
         },
         "text": "Average IMDb Rating by Movie Genre",
         "x": 0.5,
         "xanchor": "center"
        },
        "transition": {
         "duration": 700,
         "easing": "cubic-in-out"
        },
        "updatemenus": [
         {
          "active": 0,
          "buttons": [
           {
            "args": [
             {
              "customdata": [
               [
                [
                 7.218488070591546,
                 77.61105949348119,
                 133969
                ],
                [
                 6.254231330206399,
                 95.7023576290885,
                 186315
                ],
                [
                 6.078369539827143,
                 101.41015775298192,
                 10069
                ],
                [
                 6.064086935106514,
                 92.95353099730458,
                 25089
                ],
                [
                 5.934671280276816,
                 89.97391419491525,
                 20926
                ],
                [
                 5.910945008008543,
                 91.26186029137094,
                 4443
                ],
                [
                 5.9004345278083505,
                 92.38841155825041,
                 106320
                ],
                [
                 5.729745911649935,
                 100.86292851735698,
                 58950
                ],
                [
                 5.666309778729479,
                 92.76761793826441,
                 17719
                ],
                [
                 4.823815060529376,
                 86.92371731623088,
                 29122
                ]
               ]
              ],
              "marker.color": [
               [
                "#428fc9",
                "#003f5c",
                "#ff7b9c",
                "#2f4f4f",
                "#556b2f",
                "#6a0dad",
                "#f9a602",
                "#ef562f",
                "#008080",
                "#8b0000"
               ]
              ],
              "text": [
               [
                7.2,
                6.3,
                6.1,
                6.1,
                5.9,
                5.9,
                5.9,
                5.7,
                5.7,
                4.8
               ]
              ],
              "x": [
               [
                "Documentary",
                "Drama",
                "Romance",
                "Crime",
                "Adventure",
                "Mystery",
                "Comedy",
                "Action",
                "Thriller",
                "Horror"
               ]
              ],
              "y": [
               [
                7.218488070591546,
                6.254231330206399,
                6.078369539827143,
                6.064086935106514,
                5.934671280276816,
                5.910945008008543,
                5.9004345278083505,
                5.729745911649935,
                5.666309778729479,
                4.823815060529376
               ]
              ]
             },
             {
              "title.text": "Average IMDb Rating by Movie Genre",
              "xaxis.categoryarray": [
               "Documentary",
               "Drama",
               "Romance",
               "Crime",
               "Adventure",
               "Mystery",
               "Comedy",
               "Action",
               "Thriller",
               "Horror"
              ],
              "yaxis.range": [
               0,
               7.940336877650701
              ],
              "yaxis.title.text": "Average IMDb Rating"
             }
            ],
            "label": "Show Average IMDb Rating",
            "method": "update"
           },
           {
            "args": [
             {
              "customdata": [
               [
                [
                 6.078369539827143,
                 101.41015775298192,
                 10069
                ],
                [
                 5.729745911649935,
                 100.86292851735698,
                 58950
                ],
                [
                 6.254231330206399,
                 95.7023576290885,
                 186315
                ],
                [
                 6.064086935106514,
                 92.95353099730458,
                 25089
                ],
                [
                 5.666309778729479,
                 92.76761793826441,
                 17719
                ],
                [
                 5.9004345278083505,
                 92.38841155825041,
                 106320
                ],
                [
                 5.910945008008543,
                 91.26186029137094,
                 4443
                ],
                [
                 5.934671280276816,
                 89.97391419491525,
                 20926
                ],
                [
                 4.823815060529376,
                 86.92371731623088,
                 29122
                ],
                [
                 7.218488070591546,
                 77.61105949348119,
                 133969
                ]
               ]
              ],
              "marker.color": [
               [
                "#ff7b9c",
                "#ef562f",
                "#003f5c",
                "#2f4f4f",
                "#008080",
                "#f9a602",
                "#6a0dad",
                "#556b2f",
                "#8b0000",
                "#428fc9"
               ]
              ],
              "text": [
               [
                "101 min",
                "101 min",
                "96 min",
                "93 min",
                "93 min",
                "92 min",
                "91 min",
                "90 min",
                "87 min",
                "78 min"
               ]
              ],
              "x": [
               [
                "Romance",
                "Action",
                "Drama",
                "Crime",
                "Thriller",
                "Comedy",
                "Mystery",
                "Adventure",
                "Horror",
                "Documentary"
               ]
              ],
              "y": [
               [
                101.41015775298192,
                100.86292851735698,
                95.7023576290885,
                92.95353099730458,
                92.76761793826441,
                92.38841155825041,
                91.26186029137094,
                89.97391419491525,
                86.92371731623088,
                77.61105949348119
               ]
              ]
             },
             {
              "title.text": "Average Runtime by Movie Genre",
              "xaxis.categoryarray": [
               "Romance",
               "Action",
               "Drama",
               "Crime",
               "Thriller",
               "Comedy",
               "Mystery",
               "Adventure",
               "Horror",
               "Documentary"
              ],
              "yaxis.range": [
               0,
               116.62168141592919
              ],
              "yaxis.title.text": "Average Runtime (Minutes)"
             }
            ],
            "label": "Show Average Runtime",
            "method": "update"
           }
          ],
          "direction": "right",
          "pad": {
           "r": 10,
           "t": 10
          },
          "showactive": true,
          "type": "buttons",
          "x": 0.5,
          "xanchor": "center",
          "y": 1.22,
          "yanchor": "top"
         }
        ],
        "width": 1200,
        "xaxis": {
         "categoryarray": [
          "Documentary",
          "Drama",
          "Romance",
          "Crime",
          "Adventure",
          "Mystery",
          "Comedy",
          "Action",
          "Thriller",
          "Horror"
         ],
         "categoryorder": "array",
         "showgrid": false,
         "tickfont": {
          "size": 11
         },
         "title": {
          "font": {
           "size": 15
          },
          "text": "Movie Genre"
         }
        },
        "yaxis": {
         "gridcolor": "#cccccc",
         "griddash": "dash",
         "gridwidth": 0.5,
         "range": [
          0,
          8.301261281180278
         ],
         "showgrid": true,
         "tickfont": {
          "size": 11
         },
         "title": {
          "font": {
           "size": 15
          },
          "text": "Average IMDb Rating"
         },
         "zeroline": false
        }
       }
      }
     },
     "metadata": {},
     "output_type": "display_data"
    }
   ],
   "source": [
    "import pandas as pd\n",
    "import numpy as np\n",
    "import plotly.graph_objects as go\n",
    "\n",
    "# --- 1. Import Style ---\n",
    "try:\n",
    "    import plot_style\n",
    "    MOVIE_GENRES = plot_style.MOVIE_GENRES\n",
    "    GENRE_COLOR_MAP = plot_style.GENRE_COLOR_MAP\n",
    "except ImportError:\n",
    "    MOVIE_GENRES = [\n",
    "        'Drama', 'Comedy', 'Documentary', 'Romance', 'Action',\n",
    "        'Crime', 'Thriller', 'Horror', 'Adventure', 'Mystery'\n",
    "    ]\n",
    "    GENRE_COLORS_HEX = [\n",
    "        '#003f5c', '#f9a602', '#7a7a7a', '#ff7b9c', '#ef562f',\n",
    "        '#2f4f4f', '#008080', '#8b0000', '#556b2f', '#6a0dad'\n",
    "    ]\n",
    "    GENRE_COLOR_MAP = dict(zip(MOVIE_GENRES, GENRE_COLORS_HEX))\n",
    "\n",
    "# --- 2. Load Data ---\n",
    "try:\n",
    "    df = pd.read_parquet(\"../data/movies_with_release_dates_status_filtered.parquet\")\n",
    "except Exception as e:\n",
    "    print(f\"Failed to load DataFrame: {e}\")\n",
    "    exit()\n",
    "\n",
    "# --- 3. Data Processing ---\n",
    "def extract_primary_genre(genres_data, valid_genres):\n",
    "    if pd.isna(genres_data): return None\n",
    "    items = genres_data.split(',') if isinstance(genres_data, str) else genres_data\n",
    "    return next((g.strip() for g in items if g.strip() in valid_genres), None)\n",
    "\n",
    "df['primary_genre'] = df['genre'].apply(lambda x: extract_primary_genre(x, MOVIE_GENRES))\n",
    "df_plot = df.dropna(subset=['primary_genre'])\n",
    "df_plot = df_plot[df_plot['primary_genre'].isin(MOVIE_GENRES)]\n",
    "\n",
    "df_plot['imdb_rating'] = pd.to_numeric(df_plot['imdb_rating'], errors='coerce')\n",
    "df_plot['runtime_minutes'] = pd.to_numeric(df_plot['runtime_minutes'], errors='coerce')\n",
    "\n",
    "genre_summary = df_plot.groupby('primary_genre').agg(\n",
    "    avg_rating=('imdb_rating', 'mean'),\n",
    "    avg_runtime=('runtime_minutes', 'mean'),\n",
    "    movie_count=('primary_genre', 'count')\n",
    ").reset_index().dropna()\n",
    "\n",
    "# --- 4. Sorting + Range Limits ---\n",
    "genre_summary_sorted_rating = genre_summary.sort_values('avg_rating', ascending=False)\n",
    "genre_summary_sorted_runtime = genre_summary.sort_values('avg_runtime', ascending=False)\n",
    "y_max_rating = genre_summary_sorted_rating['avg_rating'].max()\n",
    "y_max_runtime = genre_summary_sorted_runtime['avg_runtime'].max()\n",
    "\n",
    "# --- 5. Initial Figure ---\n",
    "fig = go.Figure()\n",
    "\n",
    "fig.add_trace(go.Bar(\n",
    "    x=genre_summary_sorted_rating['primary_genre'],\n",
    "    y=genre_summary_sorted_rating['avg_rating'],\n",
    "    text=genre_summary_sorted_rating['avg_rating'].round(1),\n",
    "    textposition='outside',\n",
    "    marker_color=[GENRE_COLOR_MAP.get(g, '#cccccc') for g in genre_summary_sorted_rating['primary_genre']],\n",
    "    customdata=np.stack((\n",
    "        genre_summary_sorted_rating['avg_rating'],\n",
    "        genre_summary_sorted_rating['avg_runtime'],\n",
    "        genre_summary_sorted_rating['movie_count']\n",
    "    ), axis=-1),\n",
    "    hovertemplate=(\n",
    "        \"<b>%{x}</b><br><br>\" +\n",
    "        \"Average IMDb Rating: %{customdata[0]:.1f}<br>\" +\n",
    "        \"Average Runtime: %{customdata[1]:.0f} min<br>\" +\n",
    "        \"Number of Movies: %{customdata[2]:,}<extra></extra>\"\n",
    "    )\n",
    "))\n",
    "\n",
    "# --- 6. Buttons ---\n",
    "update_buttons = [\n",
    "    dict(\n",
    "        label=\"Show Average IMDb Rating\",\n",
    "        method=\"update\",\n",
    "        args=[\n",
    "            {\n",
    "                \"x\": [genre_summary_sorted_rating['primary_genre'].tolist()],\n",
    "                \"y\": [genre_summary_sorted_rating['avg_rating'].tolist()],\n",
    "                \"text\": [genre_summary_sorted_rating['avg_rating'].round(1).tolist()],\n",
    "                \"customdata\": [np.stack((\n",
    "                    genre_summary_sorted_rating['avg_rating'],\n",
    "                    genre_summary_sorted_rating['avg_runtime'],\n",
    "                    genre_summary_sorted_rating['movie_count']\n",
    "                ), axis=-1)],\n",
    "                \"marker.color\": [[GENRE_COLOR_MAP.get(g, '#cccccc') for g in genre_summary_sorted_rating['primary_genre']]]\n",
    "            },\n",
    "            {\n",
    "                \"yaxis.title.text\": \"Average IMDb Rating\",\n",
    "                \"yaxis.range\": [0, y_max_rating * 1.10],\n",
    "                \"title.text\": \"Average IMDb Rating by Movie Genre\",\n",
    "                \"xaxis.categoryarray\": genre_summary_sorted_rating['primary_genre'].tolist()\n",
    "            }\n",
    "        ]\n",
    "    ),\n",
    "    dict(\n",
    "        label=\"Show Average Runtime\",\n",
    "        method=\"update\",\n",
    "        args=[\n",
    "            {\n",
    "                \"x\": [genre_summary_sorted_runtime['primary_genre'].tolist()],\n",
    "                \"y\": [genre_summary_sorted_runtime['avg_runtime'].tolist()],\n",
    "                \"text\": [(genre_summary_sorted_runtime['avg_runtime'].round(0).astype(int).astype(str) + \" min\").tolist()],\n",
    "                \"customdata\": [np.stack((\n",
    "                    genre_summary_sorted_runtime['avg_rating'],\n",
    "                    genre_summary_sorted_runtime['avg_runtime'],\n",
    "                    genre_summary_sorted_runtime['movie_count']\n",
    "                ), axis=-1)],\n",
    "                \"marker.color\": [[GENRE_COLOR_MAP.get(g, '#cccccc') for g in genre_summary_sorted_runtime['primary_genre']]]\n",
    "            },\n",
    "            {\n",
    "                \"yaxis.title.text\": \"Average Runtime (Minutes)\",\n",
    "                \"yaxis.range\": [0, y_max_runtime * 1.15],\n",
    "                \"title.text\": \"Average Runtime by Movie Genre\",\n",
    "                \"xaxis.categoryarray\": genre_summary_sorted_runtime['primary_genre'].tolist()\n",
    "            }\n",
    "        ]\n",
    "    )\n",
    "]\n",
    "\n",
    "# --- 7. Layout ---\n",
    "fig.update_layout(\n",
    "    updatemenus=[\n",
    "        dict(\n",
    "            type=\"buttons\",\n",
    "            direction=\"right\",\n",
    "            active=0,\n",
    "            buttons=update_buttons,\n",
    "            pad={\"r\": 10, \"t\": 10},\n",
    "            showactive=True,\n",
    "            x=0.5, xanchor=\"center\",\n",
    "            y=1.22, yanchor=\"top\"\n",
    "        )\n",
    "    ],\n",
    "    title=dict(\n",
    "        text=\"Average IMDb Rating by Movie Genre\",\n",
    "        font_size=20,\n",
    "        x=0.5, xanchor='center',\n",
    "        font_color='black'\n",
    "    ),\n",
    "    font=dict(family='Arial, Helvetica, sans-serif', size=12, color='black'),\n",
    "    xaxis=dict(\n",
    "        title_text=\"Movie Genre\",\n",
    "        title_font_size=15,\n",
    "        tickfont_size=11,\n",
    "        showgrid=False,\n",
    "        categoryarray=genre_summary_sorted_rating['primary_genre'].tolist(),\n",
    "        categoryorder='array'\n",
    "    ),\n",
    "    yaxis=dict(\n",
    "        title_text=\"Average IMDb Rating\",\n",
    "        title_font_size=15,\n",
    "        tickfont_size=11,\n",
    "        showgrid=True,\n",
    "        gridcolor='#cccccc',\n",
    "        gridwidth=0.5,\n",
    "        griddash='dash',\n",
    "        zeroline=False,\n",
    "        range=[0, y_max_rating * 1.15]\n",
    "    ),\n",
    "    plot_bgcolor='white',\n",
    "    paper_bgcolor='white',\n",
    "    margin=dict(l=80, r=40, t=170, b=40),\n",
    "    height=600,\n",
    "    bargap=0.2,\n",
    "    hoverlabel=dict(\n",
    "        bgcolor=\"rgba(255,255,255,0.9)\",\n",
    "        font_size=13,\n",
    "        font_family='Arial, Helvetica, sans-serif',\n",
    "        bordercolor=\"rgba(128,128,128,0.5)\"\n",
    "    ),\n",
    "    showlegend=False,\n",
    "    transition_duration=700,\n",
    "    transition_easing='cubic-in-out'\n",
    ")\n",
    "\n",
    "fig.update_traces(\n",
    "    textfont_size=10,\n",
    "    textfont_color='black',\n",
    ")\n",
    "\n",
    "# MAke sure aspect ratio is 16:9\n",
    "fig.update_layout(\n",
    "    autosize=False,\n",
    "    width=1200,\n",
    "    height=605,\n",
    ")\n",
    "\n",
    "# --- 8. Show ---\n",
    "fig.show()\n"
   ]
  },
  {
   "cell_type": "code",
   "execution_count": 7,
   "id": "dc1aae7f",
   "metadata": {},
   "outputs": [],
   "source": [
    "# Save it as a html in ../figures/\n",
    "fig.write_html(\"../figures/average_imdb_rating_by_genre.html\", include_plotlyjs='cdn', full_html=True)"
   ]
  },
  {
   "cell_type": "code",
   "execution_count": null,
   "id": "f0101209",
   "metadata": {},
   "outputs": [],
   "source": []
  },
  {
   "cell_type": "code",
   "execution_count": null,
   "id": "2c740f11",
   "metadata": {},
   "outputs": [],
   "source": []
  }
 ],
 "metadata": {
  "kernelspec": {
   "display_name": "anaconda_environment_1",
   "language": "python",
   "name": "python3"
  },
  "language_info": {
   "codemirror_mode": {
    "name": "ipython",
    "version": 3
   },
   "file_extension": ".py",
   "mimetype": "text/x-python",
   "name": "python",
   "nbconvert_exporter": "python",
   "pygments_lexer": "ipython3",
   "version": "3.11.8"
  }
 },
 "nbformat": 4,
 "nbformat_minor": 5
}
